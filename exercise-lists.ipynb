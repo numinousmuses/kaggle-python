{
 "cells": [
  {
   "cell_type": "markdown",
   "id": "992a2b99",
   "metadata": {
    "papermill": {
     "duration": 0.007143,
     "end_time": "2022-08-10T21:02:25.810041",
     "exception": false,
     "start_time": "2022-08-10T21:02:25.802898",
     "status": "completed"
    },
    "tags": []
   },
   "source": [
    "**This notebook is an exercise in the [Python](https://www.kaggle.com/learn/python) course.  You can reference the tutorial at [this link](https://www.kaggle.com/colinmorris/lists).**\n",
    "\n",
    "---\n"
   ]
  },
  {
   "cell_type": "markdown",
   "id": "71c9c2e8",
   "metadata": {
    "papermill": {
     "duration": 0.004583,
     "end_time": "2022-08-10T21:02:25.820312",
     "exception": false,
     "start_time": "2022-08-10T21:02:25.815729",
     "status": "completed"
    },
    "tags": []
   },
   "source": [
    "Things get more interesting with lists. You'll apply your new knowledge to solve the questions below. Remember to run the following cell first."
   ]
  },
  {
   "cell_type": "code",
   "execution_count": 1,
   "id": "ad45eb59",
   "metadata": {
    "execution": {
     "iopub.execute_input": "2022-08-10T21:02:25.832713Z",
     "iopub.status.busy": "2022-08-10T21:02:25.831535Z",
     "iopub.status.idle": "2022-08-10T21:02:25.884537Z",
     "shell.execute_reply": "2022-08-10T21:02:25.883605Z"
    },
    "papermill": {
     "duration": 0.062189,
     "end_time": "2022-08-10T21:02:25.887305",
     "exception": false,
     "start_time": "2022-08-10T21:02:25.825116",
     "status": "completed"
    },
    "tags": []
   },
   "outputs": [
    {
     "name": "stdout",
     "output_type": "stream",
     "text": [
      "Setup complete.\n"
     ]
    }
   ],
   "source": [
    "from learntools.core import binder; binder.bind(globals())\n",
    "from learntools.python.ex4 import *\n",
    "print('Setup complete.')"
   ]
  },
  {
   "cell_type": "markdown",
   "id": "89a90986",
   "metadata": {
    "papermill": {
     "duration": 0.004704,
     "end_time": "2022-08-10T21:02:25.897167",
     "exception": false,
     "start_time": "2022-08-10T21:02:25.892463",
     "status": "completed"
    },
    "tags": []
   },
   "source": [
    "# 1.\n",
    "\n",
    "Complete the function below according to its docstring."
   ]
  },
  {
   "cell_type": "code",
   "execution_count": 2,
   "id": "54437a1c",
   "metadata": {
    "execution": {
     "iopub.execute_input": "2022-08-10T21:02:25.908915Z",
     "iopub.status.busy": "2022-08-10T21:02:25.908489Z",
     "iopub.status.idle": "2022-08-10T21:02:25.921064Z",
     "shell.execute_reply": "2022-08-10T21:02:25.919562Z"
    },
    "papermill": {
     "duration": 0.021336,
     "end_time": "2022-08-10T21:02:25.923397",
     "exception": false,
     "start_time": "2022-08-10T21:02:25.902061",
     "status": "completed"
    },
    "tags": []
   },
   "outputs": [
    {
     "data": {
      "application/javascript": [
       "parent.postMessage({\"jupyterEvent\": \"custom.exercise_interaction\", \"data\": {\"outcomeType\": 1, \"valueTowardsCompletion\": 0.2, \"interactionType\": 1, \"questionType\": 2, \"questionId\": \"1_SelectSecondItem\", \"learnToolsVersion\": \"0.3.4\", \"failureMessage\": \"\", \"exceptionClass\": \"\", \"trace\": \"\"}}, \"*\")"
      ],
      "text/plain": [
       "<IPython.core.display.Javascript object>"
      ]
     },
     "metadata": {},
     "output_type": "display_data"
    },
    {
     "data": {
      "text/markdown": [
       "<span style=\"color:#33cc33\">Correct</span>"
      ],
      "text/plain": [
       "Correct"
      ]
     },
     "metadata": {},
     "output_type": "display_data"
    }
   ],
   "source": [
    "def select_second(L):\n",
    "    \"\"\"Return the second element of the given list. If the list has no second\n",
    "    element, return None.\n",
    "    \"\"\"\n",
    "    if len(L)<2:\n",
    "        return None\n",
    "    return L[1]\n",
    "    \n",
    "\n",
    "# Check your answer\n",
    "q1.check()"
   ]
  },
  {
   "cell_type": "code",
   "execution_count": 3,
   "id": "31ed958c",
   "metadata": {
    "execution": {
     "iopub.execute_input": "2022-08-10T21:02:25.936062Z",
     "iopub.status.busy": "2022-08-10T21:02:25.935307Z",
     "iopub.status.idle": "2022-08-10T21:02:25.939804Z",
     "shell.execute_reply": "2022-08-10T21:02:25.938991Z"
    },
    "papermill": {
     "duration": 0.013252,
     "end_time": "2022-08-10T21:02:25.942009",
     "exception": false,
     "start_time": "2022-08-10T21:02:25.928757",
     "status": "completed"
    },
    "tags": []
   },
   "outputs": [],
   "source": [
    "#q1.hint()\n",
    "#q1.solution()"
   ]
  },
  {
   "cell_type": "markdown",
   "id": "589ff757",
   "metadata": {
    "papermill": {
     "duration": 0.005153,
     "end_time": "2022-08-10T21:02:25.952245",
     "exception": false,
     "start_time": "2022-08-10T21:02:25.947092",
     "status": "completed"
    },
    "tags": []
   },
   "source": [
    "# 2.\n",
    "\n",
    "You are analyzing sports teams.  Members of each team are stored in a list. The Coach is the first name in the list, the captain is the second name in the list, and other players are listed after that. \n",
    "These lists are stored in another list, which starts with the best team and proceeds through the list to the worst team last.  Complete the function below to select the **captain** of the worst team."
   ]
  },
  {
   "cell_type": "code",
   "execution_count": 4,
   "id": "42d984b3",
   "metadata": {
    "execution": {
     "iopub.execute_input": "2022-08-10T21:02:25.964867Z",
     "iopub.status.busy": "2022-08-10T21:02:25.964069Z",
     "iopub.status.idle": "2022-08-10T21:02:25.975044Z",
     "shell.execute_reply": "2022-08-10T21:02:25.974192Z"
    },
    "papermill": {
     "duration": 0.019972,
     "end_time": "2022-08-10T21:02:25.977279",
     "exception": false,
     "start_time": "2022-08-10T21:02:25.957307",
     "status": "completed"
    },
    "tags": []
   },
   "outputs": [
    {
     "data": {
      "application/javascript": [
       "parent.postMessage({\"jupyterEvent\": \"custom.exercise_interaction\", \"data\": {\"outcomeType\": 1, \"valueTowardsCompletion\": 0.2, \"interactionType\": 1, \"questionType\": 2, \"questionId\": \"2_LosingTeamCaptain\", \"learnToolsVersion\": \"0.3.4\", \"failureMessage\": \"\", \"exceptionClass\": \"\", \"trace\": \"\"}}, \"*\")"
      ],
      "text/plain": [
       "<IPython.core.display.Javascript object>"
      ]
     },
     "metadata": {},
     "output_type": "display_data"
    },
    {
     "data": {
      "text/markdown": [
       "<span style=\"color:#33cc33\">Correct</span>"
      ],
      "text/plain": [
       "Correct"
      ]
     },
     "metadata": {},
     "output_type": "display_data"
    }
   ],
   "source": [
    "def losing_team_captain(teams):\n",
    "    \"\"\"Given a list of teams, where each team is a list of names, return the 2nd player (captain)\n",
    "    from the last listed team\n",
    "    \"\"\"\n",
    "    losing_team = teams[-1]\n",
    "    return losing_team[1]\n",
    "    \n",
    "\n",
    "# Check your answer\n",
    "q2.check()"
   ]
  },
  {
   "cell_type": "code",
   "execution_count": 5,
   "id": "ca3409b4",
   "metadata": {
    "execution": {
     "iopub.execute_input": "2022-08-10T21:02:25.990147Z",
     "iopub.status.busy": "2022-08-10T21:02:25.989356Z",
     "iopub.status.idle": "2022-08-10T21:02:25.993983Z",
     "shell.execute_reply": "2022-08-10T21:02:25.993149Z"
    },
    "papermill": {
     "duration": 0.013727,
     "end_time": "2022-08-10T21:02:25.996299",
     "exception": false,
     "start_time": "2022-08-10T21:02:25.982572",
     "status": "completed"
    },
    "tags": []
   },
   "outputs": [],
   "source": [
    "#q2.hint()\n",
    "#q2.solution()"
   ]
  },
  {
   "cell_type": "markdown",
   "id": "681bc8b1",
   "metadata": {
    "papermill": {
     "duration": 0.005227,
     "end_time": "2022-08-10T21:02:26.006957",
     "exception": false,
     "start_time": "2022-08-10T21:02:26.001730",
     "status": "completed"
    },
    "tags": []
   },
   "source": [
    "# 3.\n",
    "\n",
    "The next iteration of Mario Kart will feature an extra-infuriating new item, the *Purple Shell*. When used, it warps the last place racer into first place and the first place racer into last place. Complete the function below to implement the Purple Shell's effect."
   ]
  },
  {
   "cell_type": "code",
   "execution_count": 6,
   "id": "a16eaf5a",
   "metadata": {
    "execution": {
     "iopub.execute_input": "2022-08-10T21:02:26.020353Z",
     "iopub.status.busy": "2022-08-10T21:02:26.019579Z",
     "iopub.status.idle": "2022-08-10T21:02:26.029706Z",
     "shell.execute_reply": "2022-08-10T21:02:26.028813Z"
    },
    "papermill": {
     "duration": 0.019569,
     "end_time": "2022-08-10T21:02:26.031915",
     "exception": false,
     "start_time": "2022-08-10T21:02:26.012346",
     "status": "completed"
    },
    "tags": []
   },
   "outputs": [
    {
     "data": {
      "application/javascript": [
       "parent.postMessage({\"jupyterEvent\": \"custom.exercise_interaction\", \"data\": {\"outcomeType\": 1, \"valueTowardsCompletion\": 0.2, \"interactionType\": 1, \"questionType\": 2, \"questionId\": \"3_PurpleShell\", \"learnToolsVersion\": \"0.3.4\", \"failureMessage\": \"\", \"exceptionClass\": \"\", \"trace\": \"\"}}, \"*\")"
      ],
      "text/plain": [
       "<IPython.core.display.Javascript object>"
      ]
     },
     "metadata": {},
     "output_type": "display_data"
    },
    {
     "data": {
      "text/markdown": [
       "<span style=\"color:#33cc33\">Correct</span>"
      ],
      "text/plain": [
       "Correct"
      ]
     },
     "metadata": {},
     "output_type": "display_data"
    }
   ],
   "source": [
    "def purple_shell(racers):\n",
    "    \"\"\"Given a list of racers, set the first place racer (at the front of the list) to last\n",
    "    place and vice versa.\n",
    "    \n",
    "    >>> r = [\"Mario\", \"Bowser\", \"Luigi\"]\n",
    "    >>> purple_shell(r)\n",
    "    >>> r\n",
    "    [\"Luigi\", \"Bowser\", \"Mario\"]\n",
    "    \"\"\"\n",
    "    (racers[0]),(racers[-1]) = (racers[-1]),(racers[0])\n",
    "    \n",
    "\n",
    "# Check your answer\n",
    "q3.check()"
   ]
  },
  {
   "cell_type": "code",
   "execution_count": 7,
   "id": "cd73543d",
   "metadata": {
    "execution": {
     "iopub.execute_input": "2022-08-10T21:02:26.045197Z",
     "iopub.status.busy": "2022-08-10T21:02:26.044426Z",
     "iopub.status.idle": "2022-08-10T21:02:26.048994Z",
     "shell.execute_reply": "2022-08-10T21:02:26.048125Z"
    },
    "papermill": {
     "duration": 0.01369,
     "end_time": "2022-08-10T21:02:26.051231",
     "exception": false,
     "start_time": "2022-08-10T21:02:26.037541",
     "status": "completed"
    },
    "tags": []
   },
   "outputs": [],
   "source": [
    "# q3.hint()\n",
    "# q3.solution()"
   ]
  },
  {
   "cell_type": "markdown",
   "id": "023e59dc",
   "metadata": {
    "papermill": {
     "duration": 0.005166,
     "end_time": "2022-08-10T21:02:26.061892",
     "exception": false,
     "start_time": "2022-08-10T21:02:26.056726",
     "status": "completed"
    },
    "tags": []
   },
   "source": [
    "# 4.\n",
    "\n",
    "What are the lengths of the following lists? Fill in the variable `lengths` with your predictions. (Try to make a prediction for each list *without* just calling `len()` on it.)"
   ]
  },
  {
   "cell_type": "code",
   "execution_count": 8,
   "id": "776d6f4b",
   "metadata": {
    "execution": {
     "iopub.execute_input": "2022-08-10T21:02:26.074774Z",
     "iopub.status.busy": "2022-08-10T21:02:26.074230Z",
     "iopub.status.idle": "2022-08-10T21:02:26.084273Z",
     "shell.execute_reply": "2022-08-10T21:02:26.083165Z"
    },
    "papermill": {
     "duration": 0.019342,
     "end_time": "2022-08-10T21:02:26.086607",
     "exception": false,
     "start_time": "2022-08-10T21:02:26.067265",
     "status": "completed"
    },
    "tags": []
   },
   "outputs": [
    {
     "data": {
      "application/javascript": [
       "parent.postMessage({\"jupyterEvent\": \"custom.exercise_interaction\", \"data\": {\"outcomeType\": 1, \"valueTowardsCompletion\": 0.2, \"interactionType\": 1, \"questionType\": 1, \"questionId\": \"4_UnderstandLen\", \"learnToolsVersion\": \"0.3.4\", \"failureMessage\": \"\", \"exceptionClass\": \"\", \"trace\": \"\"}}, \"*\")"
      ],
      "text/plain": [
       "<IPython.core.display.Javascript object>"
      ]
     },
     "metadata": {},
     "output_type": "display_data"
    },
    {
     "data": {
      "text/markdown": [
       "<span style=\"color:#33cc33\">Correct:</span> \n",
       "\n",
       "\n",
       "- a: There are three items in this list. Nothing tricky yet.\n",
       "- b: The list `[2, 3]` counts as a single item. It has one item before it. So we have 2 items in the list\n",
       "- c: The empty list has 0 items\n",
       "- d: The expression is the same as the list `[2, 3]`, which has length 2."
      ],
      "text/plain": [
       "Correct: \n",
       "\n",
       "\n",
       "- a: There are three items in this list. Nothing tricky yet.\n",
       "- b: The list `[2, 3]` counts as a single item. It has one item before it. So we have 2 items in the list\n",
       "- c: The empty list has 0 items\n",
       "- d: The expression is the same as the list `[2, 3]`, which has length 2."
      ]
     },
     "metadata": {},
     "output_type": "display_data"
    }
   ],
   "source": [
    "a = [1, 2, 3]\n",
    "b = [1, [2, 3]]\n",
    "c = []\n",
    "d = [1, 2, 3][1:]\n",
    "\n",
    "# Put your predictions in the list below. Lengths should contain 4 numbers, the\n",
    "# first being the length of a, the second being the length of b and so on.\n",
    "lengths = [3,2,0,2]\n",
    "\n",
    "# Check your answer\n",
    "q4.check()"
   ]
  },
  {
   "cell_type": "code",
   "execution_count": 9,
   "id": "9d2b5271",
   "metadata": {
    "execution": {
     "iopub.execute_input": "2022-08-10T21:02:26.102348Z",
     "iopub.status.busy": "2022-08-10T21:02:26.101608Z",
     "iopub.status.idle": "2022-08-10T21:02:26.106057Z",
     "shell.execute_reply": "2022-08-10T21:02:26.105267Z"
    },
    "papermill": {
     "duration": 0.013952,
     "end_time": "2022-08-10T21:02:26.108318",
     "exception": false,
     "start_time": "2022-08-10T21:02:26.094366",
     "status": "completed"
    },
    "tags": []
   },
   "outputs": [],
   "source": [
    "# line below provides some explanation\n",
    "#q4.solution()"
   ]
  },
  {
   "cell_type": "markdown",
   "id": "b32839c2",
   "metadata": {
    "papermill": {
     "duration": 0.005496,
     "end_time": "2022-08-10T21:02:26.119571",
     "exception": false,
     "start_time": "2022-08-10T21:02:26.114075",
     "status": "completed"
    },
    "tags": []
   },
   "source": [
    "# 5. <span title=\"A bit spicy\" style=\"color: darkgreen \">🌶️</span>\n",
    "\n",
    "We're using lists to record people who attended our party and what order they arrived in. For example, the following list represents a party with 7 guests, in which Adela showed up first and Ford was the last to arrive:\n",
    "\n",
    "    party_attendees = ['Adela', 'Fleda', 'Owen', 'May', 'Mona', 'Gilbert', 'Ford']\n",
    "\n",
    "A guest is considered 'fashionably late' if they arrived after at least half of the party's guests. However, they must not be the very last guest (that's taking it too far). In the above example, Mona and Gilbert are the only guests who were fashionably late.\n",
    "\n",
    "Complete the function below which takes a list of party attendees as well as a person, and tells us whether that person is fashionably late."
   ]
  },
  {
   "cell_type": "code",
   "execution_count": 10,
   "id": "9dcfcd26",
   "metadata": {
    "execution": {
     "iopub.execute_input": "2022-08-10T21:02:26.133472Z",
     "iopub.status.busy": "2022-08-10T21:02:26.133068Z",
     "iopub.status.idle": "2022-08-10T21:02:26.143704Z",
     "shell.execute_reply": "2022-08-10T21:02:26.142708Z"
    },
    "papermill": {
     "duration": 0.019866,
     "end_time": "2022-08-10T21:02:26.145907",
     "exception": false,
     "start_time": "2022-08-10T21:02:26.126041",
     "status": "completed"
    },
    "tags": []
   },
   "outputs": [
    {
     "data": {
      "application/javascript": [
       "parent.postMessage({\"jupyterEvent\": \"custom.exercise_interaction\", \"data\": {\"outcomeType\": 1, \"valueTowardsCompletion\": 0.2, \"interactionType\": 1, \"questionType\": 2, \"questionId\": \"5_FashionablyLate\", \"learnToolsVersion\": \"0.3.4\", \"failureMessage\": \"\", \"exceptionClass\": \"\", \"trace\": \"\"}}, \"*\")"
      ],
      "text/plain": [
       "<IPython.core.display.Javascript object>"
      ]
     },
     "metadata": {},
     "output_type": "display_data"
    },
    {
     "data": {
      "text/markdown": [
       "<span style=\"color:#33cc33\">Correct</span>"
      ],
      "text/plain": [
       "Correct"
      ]
     },
     "metadata": {},
     "output_type": "display_data"
    }
   ],
   "source": [
    "def fashionably_late(arrivals, name):\n",
    "    \"\"\"Given an ordered list of arrivals to the party and a name, return whether the guest with that\n",
    "    name was fashionably late.\n",
    "    \"\"\"\n",
    "    return arrivals.index(name) >= len(arrivals) / 2 and arrivals.index(name) != len(arrivals) - 1\n",
    "\n",
    "# Check your answer\n",
    "q5.check()"
   ]
  },
  {
   "cell_type": "code",
   "execution_count": 11,
   "id": "b0a49e85",
   "metadata": {
    "execution": {
     "iopub.execute_input": "2022-08-10T21:02:26.159867Z",
     "iopub.status.busy": "2022-08-10T21:02:26.159182Z",
     "iopub.status.idle": "2022-08-10T21:02:26.163765Z",
     "shell.execute_reply": "2022-08-10T21:02:26.162679Z"
    },
    "papermill": {
     "duration": 0.014258,
     "end_time": "2022-08-10T21:02:26.166128",
     "exception": false,
     "start_time": "2022-08-10T21:02:26.151870",
     "status": "completed"
    },
    "tags": []
   },
   "outputs": [],
   "source": [
    "# q5.hint()\n",
    "# q5.solution()"
   ]
  },
  {
   "cell_type": "markdown",
   "id": "3d0fcb26",
   "metadata": {
    "papermill": {
     "duration": 0.00581,
     "end_time": "2022-08-10T21:02:26.178033",
     "exception": false,
     "start_time": "2022-08-10T21:02:26.172223",
     "status": "completed"
    },
    "tags": []
   },
   "source": [
    "# Keep Going\n",
    "\n",
    "That's it for lists and tuples! Now you have the baseline knowledge to **[learn about loops](https://www.kaggle.com/colinmorris/loops-and-list-comprehensions)**, which is where lists and tuples get really interesting. "
   ]
  },
  {
   "cell_type": "markdown",
   "id": "7a963bc6",
   "metadata": {
    "papermill": {
     "duration": 0.005694,
     "end_time": "2022-08-10T21:02:26.189732",
     "exception": false,
     "start_time": "2022-08-10T21:02:26.184038",
     "status": "completed"
    },
    "tags": []
   },
   "source": [
    "---\n",
    "\n",
    "\n",
    "\n",
    "\n",
    "*Have questions or comments? Visit the [course discussion forum](https://www.kaggle.com/learn/python/discussion) to chat with other learners.*"
   ]
  }
 ],
 "metadata": {
  "kernelspec": {
   "display_name": "Python 3",
   "language": "python",
   "name": "python3"
  },
  "language_info": {
   "codemirror_mode": {
    "name": "ipython",
    "version": 3
   },
   "file_extension": ".py",
   "mimetype": "text/x-python",
   "name": "python",
   "nbconvert_exporter": "python",
   "pygments_lexer": "ipython3",
   "version": "3.7.12"
  },
  "papermill": {
   "default_parameters": {},
   "duration": 10.390181,
   "end_time": "2022-08-10T21:02:26.816884",
   "environment_variables": {},
   "exception": null,
   "input_path": "__notebook__.ipynb",
   "output_path": "__notebook__.ipynb",
   "parameters": {},
   "start_time": "2022-08-10T21:02:16.426703",
   "version": "2.3.4"
  }
 },
 "nbformat": 4,
 "nbformat_minor": 5
}
