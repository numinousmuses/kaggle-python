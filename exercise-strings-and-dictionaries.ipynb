{
 "cells": [
  {
   "cell_type": "markdown",
   "id": "a098c193",
   "metadata": {
    "papermill": {
     "duration": 0.006908,
     "end_time": "2022-08-10T21:09:47.273339",
     "exception": false,
     "start_time": "2022-08-10T21:09:47.266431",
     "status": "completed"
    },
    "tags": []
   },
   "source": [
    "**This notebook is an exercise in the [Python](https://www.kaggle.com/learn/python) course.  You can reference the tutorial at [this link](https://www.kaggle.com/colinmorris/strings-and-dictionaries).**\n",
    "\n",
    "---\n"
   ]
  },
  {
   "cell_type": "markdown",
   "id": "e968b0fe",
   "metadata": {
    "papermill": {
     "duration": 0.005115,
     "end_time": "2022-08-10T21:09:47.284127",
     "exception": false,
     "start_time": "2022-08-10T21:09:47.279012",
     "status": "completed"
    },
    "tags": []
   },
   "source": [
    "You are almost done with the course. Nice job!\n",
    "\n",
    "We have a couple more interesting problems for you before you go. \n",
    "\n",
    "As always, run the setup code below before working on the questions."
   ]
  },
  {
   "cell_type": "code",
   "execution_count": 1,
   "id": "2d9a75dd",
   "metadata": {
    "execution": {
     "iopub.execute_input": "2022-08-10T21:09:47.298015Z",
     "iopub.status.busy": "2022-08-10T21:09:47.297099Z",
     "iopub.status.idle": "2022-08-10T21:09:47.369419Z",
     "shell.execute_reply": "2022-08-10T21:09:47.368460Z"
    },
    "papermill": {
     "duration": 0.083403,
     "end_time": "2022-08-10T21:09:47.372942",
     "exception": false,
     "start_time": "2022-08-10T21:09:47.289539",
     "status": "completed"
    },
    "tags": []
   },
   "outputs": [
    {
     "name": "stdout",
     "output_type": "stream",
     "text": [
      "Setup complete.\n"
     ]
    }
   ],
   "source": [
    "from learntools.core import binder; binder.bind(globals())\n",
    "from learntools.python.ex6 import *\n",
    "print('Setup complete.')"
   ]
  },
  {
   "cell_type": "markdown",
   "id": "3633500c",
   "metadata": {
    "papermill": {
     "duration": 0.005719,
     "end_time": "2022-08-10T21:09:47.385585",
     "exception": false,
     "start_time": "2022-08-10T21:09:47.379866",
     "status": "completed"
    },
    "tags": []
   },
   "source": [
    "Let's start with a string lightning round to warm up. What are the lengths of the strings below?\n",
    "\n",
    "For each of the five strings below, predict what `len()` would return when passed that string. Use the variable `length` to record your answer, then run the cell to check whether you were right.  \n",
    "\n",
    "# 0a."
   ]
  },
  {
   "cell_type": "code",
   "execution_count": 2,
   "id": "c51756db",
   "metadata": {
    "execution": {
     "iopub.execute_input": "2022-08-10T21:09:47.399307Z",
     "iopub.status.busy": "2022-08-10T21:09:47.398505Z",
     "iopub.status.idle": "2022-08-10T21:09:47.409325Z",
     "shell.execute_reply": "2022-08-10T21:09:47.407950Z"
    },
    "papermill": {
     "duration": 0.020291,
     "end_time": "2022-08-10T21:09:47.411445",
     "exception": false,
     "start_time": "2022-08-10T21:09:47.391154",
     "status": "completed"
    },
    "tags": []
   },
   "outputs": [
    {
     "data": {
      "application/javascript": [
       "parent.postMessage({\"jupyterEvent\": \"custom.exercise_interaction\", \"data\": {\"outcomeType\": 1, \"valueTowardsCompletion\": 0.3333333333333333, \"interactionType\": 1, \"questionType\": 1, \"questionId\": \"0.1_ZA\", \"learnToolsVersion\": \"0.3.4\", \"failureMessage\": \"\", \"exceptionClass\": \"\", \"trace\": \"\"}}, \"*\")"
      ],
      "text/plain": [
       "<IPython.core.display.Javascript object>"
      ]
     },
     "metadata": {},
     "output_type": "display_data"
    },
    {
     "data": {
      "text/markdown": [
       "<span style=\"color:#33cc33\">Correct:</span> \n",
       "\n",
       "The empty string has length zero. Note that the empty string is also the only string that Python considers as False when converting to boolean."
      ],
      "text/plain": [
       "Correct: \n",
       "\n",
       "The empty string has length zero. Note that the empty string is also the only string that Python considers as False when converting to boolean."
      ]
     },
     "metadata": {},
     "output_type": "display_data"
    }
   ],
   "source": [
    "a = \"\"\n",
    "length = 0\n",
    "q0.a.check()"
   ]
  },
  {
   "cell_type": "markdown",
   "id": "6181eb29",
   "metadata": {
    "papermill": {
     "duration": 0.005617,
     "end_time": "2022-08-10T21:09:47.422964",
     "exception": false,
     "start_time": "2022-08-10T21:09:47.417347",
     "status": "completed"
    },
    "tags": []
   },
   "source": [
    "# 0b."
   ]
  },
  {
   "cell_type": "code",
   "execution_count": 3,
   "id": "df76bfb9",
   "metadata": {
    "execution": {
     "iopub.execute_input": "2022-08-10T21:09:47.437168Z",
     "iopub.status.busy": "2022-08-10T21:09:47.436449Z",
     "iopub.status.idle": "2022-08-10T21:09:47.444610Z",
     "shell.execute_reply": "2022-08-10T21:09:47.443840Z"
    },
    "papermill": {
     "duration": 0.018094,
     "end_time": "2022-08-10T21:09:47.446882",
     "exception": false,
     "start_time": "2022-08-10T21:09:47.428788",
     "status": "completed"
    },
    "tags": []
   },
   "outputs": [
    {
     "data": {
      "application/javascript": [
       "parent.postMessage({\"jupyterEvent\": \"custom.exercise_interaction\", \"data\": {\"outcomeType\": 1, \"valueTowardsCompletion\": 0.3333333333333333, \"interactionType\": 1, \"questionType\": 1, \"questionId\": \"0.2_ZB\", \"learnToolsVersion\": \"0.3.4\", \"failureMessage\": \"\", \"exceptionClass\": \"\", \"trace\": \"\"}}, \"*\")"
      ],
      "text/plain": [
       "<IPython.core.display.Javascript object>"
      ]
     },
     "metadata": {},
     "output_type": "display_data"
    },
    {
     "data": {
      "text/markdown": [
       "<span style=\"color:#33cc33\">Correct:</span> \n",
       "\n",
       "Keep in mind Python includes spaces (and punctuation) when counting string length."
      ],
      "text/plain": [
       "Correct: \n",
       "\n",
       "Keep in mind Python includes spaces (and punctuation) when counting string length."
      ]
     },
     "metadata": {},
     "output_type": "display_data"
    }
   ],
   "source": [
    "b = \"it's ok\"\n",
    "length = 7\n",
    "q0.b.check()"
   ]
  },
  {
   "cell_type": "markdown",
   "id": "978888fe",
   "metadata": {
    "papermill": {
     "duration": 0.006108,
     "end_time": "2022-08-10T21:09:47.460191",
     "exception": false,
     "start_time": "2022-08-10T21:09:47.454083",
     "status": "completed"
    },
    "tags": []
   },
   "source": [
    "# 0c."
   ]
  },
  {
   "cell_type": "code",
   "execution_count": 4,
   "id": "9b24120d",
   "metadata": {
    "execution": {
     "iopub.execute_input": "2022-08-10T21:09:47.479118Z",
     "iopub.status.busy": "2022-08-10T21:09:47.478078Z",
     "iopub.status.idle": "2022-08-10T21:09:47.488893Z",
     "shell.execute_reply": "2022-08-10T21:09:47.487555Z"
    },
    "papermill": {
     "duration": 0.024751,
     "end_time": "2022-08-10T21:09:47.491349",
     "exception": false,
     "start_time": "2022-08-10T21:09:47.466598",
     "status": "completed"
    },
    "tags": []
   },
   "outputs": [
    {
     "data": {
      "application/javascript": [
       "parent.postMessage({\"jupyterEvent\": \"custom.exercise_interaction\", \"data\": {\"outcomeType\": 1, \"valueTowardsCompletion\": 0.3333333333333333, \"interactionType\": 1, \"questionType\": 1, \"questionId\": \"0.3_ZC\", \"learnToolsVersion\": \"0.3.4\", \"failureMessage\": \"\", \"exceptionClass\": \"\", \"trace\": \"\"}}, \"*\")"
      ],
      "text/plain": [
       "<IPython.core.display.Javascript object>"
      ]
     },
     "metadata": {},
     "output_type": "display_data"
    },
    {
     "data": {
      "text/markdown": [
       "<span style=\"color:#33cc33\">Correct:</span> \n",
       "\n",
       "Even though we use different syntax to create it, the string `c` is identical to `b`. In particular, note that the backslash is not part of the string, so it doesn't contribute to its length."
      ],
      "text/plain": [
       "Correct: \n",
       "\n",
       "Even though we use different syntax to create it, the string `c` is identical to `b`. In particular, note that the backslash is not part of the string, so it doesn't contribute to its length."
      ]
     },
     "metadata": {},
     "output_type": "display_data"
    }
   ],
   "source": [
    "c = 'it\\'s ok'\n",
    "length = 7\n",
    "q0.c.check()"
   ]
  },
  {
   "cell_type": "markdown",
   "id": "4b4963ae",
   "metadata": {
    "papermill": {
     "duration": 0.00645,
     "end_time": "2022-08-10T21:09:47.504393",
     "exception": false,
     "start_time": "2022-08-10T21:09:47.497943",
     "status": "completed"
    },
    "tags": []
   },
   "source": [
    "# 0d."
   ]
  },
  {
   "cell_type": "code",
   "execution_count": 5,
   "id": "929a470b",
   "metadata": {
    "execution": {
     "iopub.execute_input": "2022-08-10T21:09:47.519980Z",
     "iopub.status.busy": "2022-08-10T21:09:47.519143Z",
     "iopub.status.idle": "2022-08-10T21:09:47.527589Z",
     "shell.execute_reply": "2022-08-10T21:09:47.526664Z"
    },
    "papermill": {
     "duration": 0.019144,
     "end_time": "2022-08-10T21:09:47.530185",
     "exception": false,
     "start_time": "2022-08-10T21:09:47.511041",
     "status": "completed"
    },
    "tags": []
   },
   "outputs": [
    {
     "data": {
      "application/javascript": [
       "parent.postMessage({\"jupyterEvent\": \"custom.exercise_interaction\", \"data\": {\"outcomeType\": 1, \"valueTowardsCompletion\": 0.3333333333333333, \"interactionType\": 1, \"questionType\": 1, \"questionId\": \"0.4_ZD\", \"learnToolsVersion\": \"0.3.4\", \"failureMessage\": \"\", \"exceptionClass\": \"\", \"trace\": \"\"}}, \"*\")"
      ],
      "text/plain": [
       "<IPython.core.display.Javascript object>"
      ]
     },
     "metadata": {},
     "output_type": "display_data"
    },
    {
     "data": {
      "text/markdown": [
       "<span style=\"color:#33cc33\">Correct:</span> \n",
       "\n",
       "The fact that this string was created using triple-quote syntax doesn't make any difference in terms of its content or length. This string is exactly the same as `'hey'`."
      ],
      "text/plain": [
       "Correct: \n",
       "\n",
       "The fact that this string was created using triple-quote syntax doesn't make any difference in terms of its content or length. This string is exactly the same as `'hey'`."
      ]
     },
     "metadata": {},
     "output_type": "display_data"
    }
   ],
   "source": [
    "d = \"\"\"hey\"\"\"\n",
    "length = 3\n",
    "q0.d.check()"
   ]
  },
  {
   "cell_type": "markdown",
   "id": "c953e376",
   "metadata": {
    "papermill": {
     "duration": 0.006283,
     "end_time": "2022-08-10T21:09:47.543070",
     "exception": false,
     "start_time": "2022-08-10T21:09:47.536787",
     "status": "completed"
    },
    "tags": []
   },
   "source": [
    "# 0e."
   ]
  },
  {
   "cell_type": "code",
   "execution_count": 6,
   "id": "c92dd2f0",
   "metadata": {
    "execution": {
     "iopub.execute_input": "2022-08-10T21:09:47.558647Z",
     "iopub.status.busy": "2022-08-10T21:09:47.557843Z",
     "iopub.status.idle": "2022-08-10T21:09:47.566147Z",
     "shell.execute_reply": "2022-08-10T21:09:47.565199Z"
    },
    "papermill": {
     "duration": 0.019112,
     "end_time": "2022-08-10T21:09:47.568501",
     "exception": false,
     "start_time": "2022-08-10T21:09:47.549389",
     "status": "completed"
    },
    "tags": []
   },
   "outputs": [
    {
     "data": {
      "application/javascript": [
       "parent.postMessage({\"jupyterEvent\": \"custom.exercise_interaction\", \"data\": {\"outcomeType\": 1, \"valueTowardsCompletion\": 0.3333333333333333, \"interactionType\": 1, \"questionType\": 1, \"questionId\": \"0.5_ZE\", \"learnToolsVersion\": \"0.3.4\", \"failureMessage\": \"\", \"exceptionClass\": \"\", \"trace\": \"\"}}, \"*\")"
      ],
      "text/plain": [
       "<IPython.core.display.Javascript object>"
      ]
     },
     "metadata": {},
     "output_type": "display_data"
    },
    {
     "data": {
      "text/markdown": [
       "<span style=\"color:#33cc33\">Correct:</span> \n",
       "\n",
       "The newline character is just a single character! (Even though we represent it to Python using a combination of two characters.)"
      ],
      "text/plain": [
       "Correct: \n",
       "\n",
       "The newline character is just a single character! (Even though we represent it to Python using a combination of two characters.)"
      ]
     },
     "metadata": {},
     "output_type": "display_data"
    }
   ],
   "source": [
    "e = '\\n'\n",
    "length = 1\n",
    "q0.e.check()"
   ]
  },
  {
   "cell_type": "markdown",
   "id": "d0e0c117",
   "metadata": {
    "papermill": {
     "duration": 0.00731,
     "end_time": "2022-08-10T21:09:47.582634",
     "exception": false,
     "start_time": "2022-08-10T21:09:47.575324",
     "status": "completed"
    },
    "tags": []
   },
   "source": [
    "# 1.\n",
    "\n",
    "There is a saying that \"Data scientists spend 80% of their time cleaning data, and 20% of their time complaining about cleaning data.\" Let's see if you can write a function to help clean US zip code data. Given a string, it should return whether or not that string represents a valid zip code. For our purposes, a valid zip code is any string consisting of exactly 5 digits.\n",
    "\n",
    "HINT: `str` has a method that will be useful here. Use `help(str)` to review a list of string methods."
   ]
  },
  {
   "cell_type": "code",
   "execution_count": 7,
   "id": "939e1c62",
   "metadata": {
    "execution": {
     "iopub.execute_input": "2022-08-10T21:09:47.598488Z",
     "iopub.status.busy": "2022-08-10T21:09:47.597681Z",
     "iopub.status.idle": "2022-08-10T21:09:47.606680Z",
     "shell.execute_reply": "2022-08-10T21:09:47.605916Z"
    },
    "papermill": {
     "duration": 0.019464,
     "end_time": "2022-08-10T21:09:47.608719",
     "exception": false,
     "start_time": "2022-08-10T21:09:47.589255",
     "status": "completed"
    },
    "tags": []
   },
   "outputs": [
    {
     "data": {
      "application/javascript": [
       "parent.postMessage({\"jupyterEvent\": \"custom.exercise_interaction\", \"data\": {\"outcomeType\": 1, \"valueTowardsCompletion\": 0.3333333333333333, \"interactionType\": 1, \"questionType\": 2, \"questionId\": \"1_ZipValidator\", \"learnToolsVersion\": \"0.3.4\", \"failureMessage\": \"\", \"exceptionClass\": \"\", \"trace\": \"\"}}, \"*\")"
      ],
      "text/plain": [
       "<IPython.core.display.Javascript object>"
      ]
     },
     "metadata": {},
     "output_type": "display_data"
    },
    {
     "data": {
      "text/markdown": [
       "<span style=\"color:#33cc33\">Correct</span>"
      ],
      "text/plain": [
       "Correct"
      ]
     },
     "metadata": {},
     "output_type": "display_data"
    }
   ],
   "source": [
    "def is_valid_zip(zip_code):\n",
    "    \"\"\"Returns whether the input string is a valid (5 digit) zip code\n",
    "    \"\"\"\n",
    "    if zip_code.isdigit():\n",
    "        if (len(zip_code) == 5):\n",
    "            return True\n",
    "        else:\n",
    "            return False\n",
    "    else:\n",
    "        return False\n",
    "\n",
    "# Check your answer\n",
    "q1.check()"
   ]
  },
  {
   "cell_type": "code",
   "execution_count": 8,
   "id": "2a680c9a",
   "metadata": {
    "execution": {
     "iopub.execute_input": "2022-08-10T21:09:47.625714Z",
     "iopub.status.busy": "2022-08-10T21:09:47.624939Z",
     "iopub.status.idle": "2022-08-10T21:09:47.632426Z",
     "shell.execute_reply": "2022-08-10T21:09:47.630454Z"
    },
    "papermill": {
     "duration": 0.019372,
     "end_time": "2022-08-10T21:09:47.635040",
     "exception": false,
     "start_time": "2022-08-10T21:09:47.615668",
     "status": "completed"
    },
    "tags": []
   },
   "outputs": [
    {
     "name": "stdout",
     "output_type": "stream",
     "text": [
      "Help on method_descriptor:\n",
      "\n",
      "isdigit(self, /)\n",
      "    Return True if the string is a digit string, False otherwise.\n",
      "    \n",
      "    A string is a digit string if all characters in the string are digits and there\n",
      "    is at least one character in the string.\n",
      "\n"
     ]
    }
   ],
   "source": [
    "# q1.hint()\n",
    "# q1.solution()\n",
    "help(str.isdigit)"
   ]
  },
  {
   "cell_type": "markdown",
   "id": "4e6f66b2",
   "metadata": {
    "papermill": {
     "duration": 0.006748,
     "end_time": "2022-08-10T21:09:47.648988",
     "exception": false,
     "start_time": "2022-08-10T21:09:47.642240",
     "status": "completed"
    },
    "tags": []
   },
   "source": [
    "# 2.\n",
    "\n",
    "A researcher has gathered thousands of news articles. But she wants to focus her attention on articles including a specific word. Complete the function below to help her filter her list of articles.\n",
    "\n",
    "Your function should meet the following criteria:\n",
    "\n",
    "- Do not include documents where the keyword string shows up only as a part of a larger word. For example, if she were looking for the keyword “closed”, you would not include the string “enclosed.” \n",
    "- She does not want you to distinguish upper case from lower case letters. So the phrase “Closed the case.” would be included when the keyword is “closed”\n",
    "- Do not let periods or commas affect what is matched. “It is closed.” would be included when the keyword is “closed”. But you can assume there are no other types of punctuation."
   ]
  },
  {
   "cell_type": "code",
   "execution_count": 9,
   "id": "7c1ee578",
   "metadata": {
    "execution": {
     "iopub.execute_input": "2022-08-10T21:09:47.666346Z",
     "iopub.status.busy": "2022-08-10T21:09:47.665509Z",
     "iopub.status.idle": "2022-08-10T21:09:47.676742Z",
     "shell.execute_reply": "2022-08-10T21:09:47.675853Z"
    },
    "papermill": {
     "duration": 0.022506,
     "end_time": "2022-08-10T21:09:47.678894",
     "exception": false,
     "start_time": "2022-08-10T21:09:47.656388",
     "status": "completed"
    },
    "tags": []
   },
   "outputs": [
    {
     "data": {
      "application/javascript": [
       "parent.postMessage({\"jupyterEvent\": \"custom.exercise_interaction\", \"data\": {\"outcomeType\": 1, \"valueTowardsCompletion\": 0.3333333333333333, \"interactionType\": 1, \"questionType\": 2, \"questionId\": \"2_WordSearch\", \"learnToolsVersion\": \"0.3.4\", \"failureMessage\": \"\", \"exceptionClass\": \"\", \"trace\": \"\"}}, \"*\")"
      ],
      "text/plain": [
       "<IPython.core.display.Javascript object>"
      ]
     },
     "metadata": {},
     "output_type": "display_data"
    },
    {
     "data": {
      "text/markdown": [
       "<span style=\"color:#33cc33\">Correct</span>"
      ],
      "text/plain": [
       "Correct"
      ]
     },
     "metadata": {},
     "output_type": "display_data"
    }
   ],
   "source": [
    "def word_search(doc_list, keyword):\n",
    "    \"\"\"\n",
    "    Takes a list of documents (each document is a string) and a keyword. \n",
    "    Returns list of the index values into the original list for all documents \n",
    "    containing the keyword.\n",
    "\n",
    "    Example:\n",
    "    doc_list = [\"The Learn Python Challenge Casino.\", \"They bought a car\", \"Casinoville\"]\n",
    "    >>> word_search(doc_list, 'casino')\n",
    "    >>> [0]\n",
    "    \"\"\"\n",
    "    indices = [] \n",
    "    for i, doc in enumerate(doc_list):\n",
    "        tokens = doc.split()\n",
    "        normalized = [token.rstrip('.,').lower() for token in tokens]\n",
    "        if keyword.lower() in normalized:\n",
    "            indices.append(i)\n",
    "    return indices   \n",
    "\n",
    "# Check your answer\n",
    "q2.check()"
   ]
  },
  {
   "cell_type": "code",
   "execution_count": 10,
   "id": "bc4e59c2",
   "metadata": {
    "execution": {
     "iopub.execute_input": "2022-08-10T21:09:47.696224Z",
     "iopub.status.busy": "2022-08-10T21:09:47.695429Z",
     "iopub.status.idle": "2022-08-10T21:09:47.699986Z",
     "shell.execute_reply": "2022-08-10T21:09:47.698939Z"
    },
    "papermill": {
     "duration": 0.016014,
     "end_time": "2022-08-10T21:09:47.702182",
     "exception": false,
     "start_time": "2022-08-10T21:09:47.686168",
     "status": "completed"
    },
    "tags": []
   },
   "outputs": [],
   "source": [
    "# q2.hint()\n",
    "# q2.solution()"
   ]
  },
  {
   "cell_type": "markdown",
   "id": "3f712bd0",
   "metadata": {
    "papermill": {
     "duration": 0.007135,
     "end_time": "2022-08-10T21:09:47.716678",
     "exception": false,
     "start_time": "2022-08-10T21:09:47.709543",
     "status": "completed"
    },
    "tags": []
   },
   "source": [
    "# 3.\n",
    "\n",
    "Now the researcher wants to supply multiple keywords to search for. Complete the function below to help her.\n",
    "\n",
    "(You're encouraged to use the `word_search` function you just wrote when implementing this function. Reusing code in this way makes your programs more robust and readable - and it saves typing!)"
   ]
  },
  {
   "cell_type": "code",
   "execution_count": 11,
   "id": "5831966f",
   "metadata": {
    "execution": {
     "iopub.execute_input": "2022-08-10T21:09:47.733940Z",
     "iopub.status.busy": "2022-08-10T21:09:47.733107Z",
     "iopub.status.idle": "2022-08-10T21:09:47.742662Z",
     "shell.execute_reply": "2022-08-10T21:09:47.741836Z"
    },
    "papermill": {
     "duration": 0.020827,
     "end_time": "2022-08-10T21:09:47.744877",
     "exception": false,
     "start_time": "2022-08-10T21:09:47.724050",
     "status": "completed"
    },
    "tags": []
   },
   "outputs": [
    {
     "data": {
      "application/javascript": [
       "parent.postMessage({\"jupyterEvent\": \"custom.exercise_interaction\", \"data\": {\"outcomeType\": 1, \"valueTowardsCompletion\": 0.3333333333333333, \"interactionType\": 1, \"questionType\": 2, \"questionId\": \"3_MultiWordSearch\", \"learnToolsVersion\": \"0.3.4\", \"failureMessage\": \"\", \"exceptionClass\": \"\", \"trace\": \"\"}}, \"*\")"
      ],
      "text/plain": [
       "<IPython.core.display.Javascript object>"
      ]
     },
     "metadata": {},
     "output_type": "display_data"
    },
    {
     "data": {
      "text/markdown": [
       "<span style=\"color:#33cc33\">Correct</span>"
      ],
      "text/plain": [
       "Correct"
      ]
     },
     "metadata": {},
     "output_type": "display_data"
    }
   ],
   "source": [
    "def multi_word_search(doc_list, keywords):\n",
    "    \"\"\"\n",
    "    Takes list of documents (each document is a string) and a list of keywords.  \n",
    "    Returns a dictionary where each key is a keyword, and the value is a list of indices\n",
    "    (from doc_list) of the documents containing that keyword\n",
    "\n",
    "    >>> doc_list = [\"The Learn Python Challenge Casino.\", \"They bought a car and a casino\", \"Casinoville\"]\n",
    "    >>> keywords = ['casino', 'they']\n",
    "    >>> multi_word_search(doc_list, keywords)\n",
    "    {'casino': [0, 1], 'they': [1]}\n",
    "    \"\"\"\n",
    "    keyword_to_indices = {}\n",
    "    for keyword in keywords:\n",
    "        keyword_to_indices[keyword] = word_search(doc_list, keyword)\n",
    "    return keyword_to_indices\n",
    "\n",
    "\n",
    "# Check your answer\n",
    "q3.check()"
   ]
  },
  {
   "cell_type": "code",
   "execution_count": 12,
   "id": "73d07f2a",
   "metadata": {
    "execution": {
     "iopub.execute_input": "2022-08-10T21:09:47.762260Z",
     "iopub.status.busy": "2022-08-10T21:09:47.761816Z",
     "iopub.status.idle": "2022-08-10T21:09:47.766814Z",
     "shell.execute_reply": "2022-08-10T21:09:47.765681Z"
    },
    "papermill": {
     "duration": 0.016749,
     "end_time": "2022-08-10T21:09:47.769187",
     "exception": false,
     "start_time": "2022-08-10T21:09:47.752438",
     "status": "completed"
    },
    "tags": []
   },
   "outputs": [],
   "source": [
    "# q3.solution()"
   ]
  },
  {
   "cell_type": "markdown",
   "id": "8484c485",
   "metadata": {
    "papermill": {
     "duration": 0.007267,
     "end_time": "2022-08-10T21:09:47.784447",
     "exception": false,
     "start_time": "2022-08-10T21:09:47.777180",
     "status": "completed"
    },
    "tags": []
   },
   "source": [
    "# Keep Going\n",
    "\n",
    "You've learned a lot. But even the best programmers rely heavily on \"libraries\" of code from other programmers. You'll learn about that in **[the last lesson](https://www.kaggle.com/colinmorris/working-with-external-libraries)**.\n"
   ]
  },
  {
   "cell_type": "markdown",
   "id": "42b1fd6c",
   "metadata": {
    "papermill": {
     "duration": 0.007196,
     "end_time": "2022-08-10T21:09:47.799089",
     "exception": false,
     "start_time": "2022-08-10T21:09:47.791893",
     "status": "completed"
    },
    "tags": []
   },
   "source": [
    "---\n",
    "\n",
    "\n",
    "\n",
    "\n",
    "*Have questions or comments? Visit the [course discussion forum](https://www.kaggle.com/learn/python/discussion) to chat with other learners.*"
   ]
  }
 ],
 "metadata": {
  "kernelspec": {
   "display_name": "Python 3",
   "language": "python",
   "name": "python3"
  },
  "language_info": {
   "codemirror_mode": {
    "name": "ipython",
    "version": 3
   },
   "file_extension": ".py",
   "mimetype": "text/x-python",
   "name": "python",
   "nbconvert_exporter": "python",
   "pygments_lexer": "ipython3",
   "version": "3.7.12"
  },
  "papermill": {
   "default_parameters": {},
   "duration": 12.49928,
   "end_time": "2022-08-10T21:09:48.731469",
   "environment_variables": {},
   "exception": null,
   "input_path": "__notebook__.ipynb",
   "output_path": "__notebook__.ipynb",
   "parameters": {},
   "start_time": "2022-08-10T21:09:36.232189",
   "version": "2.3.4"
  }
 },
 "nbformat": 4,
 "nbformat_minor": 5
}
