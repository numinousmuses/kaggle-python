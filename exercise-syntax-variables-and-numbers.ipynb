{
 "cells": [
  {
   "cell_type": "markdown",
   "id": "510fd4cc",
   "metadata": {
    "papermill": {
     "duration": 0.007902,
     "end_time": "2022-08-10T20:43:53.483774",
     "exception": false,
     "start_time": "2022-08-10T20:43:53.475872",
     "status": "completed"
    },
    "tags": []
   },
   "source": [
    "**This notebook is an exercise in the [Python](https://www.kaggle.com/learn/python) course.  You can reference the tutorial at [this link](https://www.kaggle.com/colinmorris/hello-python).**\n",
    "\n",
    "---\n"
   ]
  },
  {
   "cell_type": "markdown",
   "id": "306b2150",
   "metadata": {
    "papermill": {
     "duration": 0.00619,
     "end_time": "2022-08-10T20:43:53.496866",
     "exception": false,
     "start_time": "2022-08-10T20:43:53.490676",
     "status": "completed"
    },
    "tags": []
   },
   "source": [
    "Welcome to your first set of Python coding problems.  If this is your first time using Kaggle Notebooks, welcome! \n",
    "\n",
    "Notebooks are composed of blocks (called \"cells\") of text and code. Each of these is editable, though you'll mainly be editing the code cells to answer some questions.\n",
    "\n",
    "To get started, try running the code cell below (by pressing the ► button, or clicking on the cell and pressing ctrl+enter on your keyboard)."
   ]
  },
  {
   "cell_type": "code",
   "execution_count": 1,
   "id": "1fb8b965",
   "metadata": {
    "execution": {
     "iopub.execute_input": "2022-08-10T20:43:53.512775Z",
     "iopub.status.busy": "2022-08-10T20:43:53.511411Z",
     "iopub.status.idle": "2022-08-10T20:43:53.526958Z",
     "shell.execute_reply": "2022-08-10T20:43:53.525848Z"
    },
    "papermill": {
     "duration": 0.026849,
     "end_time": "2022-08-10T20:43:53.530199",
     "exception": false,
     "start_time": "2022-08-10T20:43:53.503350",
     "status": "completed"
    },
    "tags": []
   },
   "outputs": [
    {
     "name": "stdout",
     "output_type": "stream",
     "text": [
      "You've successfully run some Python code\n",
      "Congratulations!\n",
      "800.0\n"
     ]
    }
   ],
   "source": [
    "print(\"You've successfully run some Python code\")\n",
    "print(\"Congratulations!\")\n",
    "print(float('800'))"
   ]
  },
  {
   "cell_type": "markdown",
   "id": "cc278954",
   "metadata": {
    "papermill": {
     "duration": 0.006595,
     "end_time": "2022-08-10T20:43:53.544343",
     "exception": false,
     "start_time": "2022-08-10T20:43:53.537748",
     "status": "completed"
    },
    "tags": []
   },
   "source": [
    "Try adding another line of code in the cell above and re-running it. \n",
    "\n",
    "Now let's get a little fancier:  Add a new code cell by clicking on an existing code cell, hitting the escape key, and then hitting the `a` or `b` key.  The `a` key will add a cell above the current cell, and `b` adds a cell below.\n",
    "\n",
    "Great! Now you know how to use Notebooks.\n",
    "\n",
    "Each hands-on exercise starts by setting up our feedback and code checking mechanism. Run the code cell below to do that. Then you'll be ready to move on to question 0."
   ]
  },
  {
   "cell_type": "code",
   "execution_count": 2,
   "id": "7d34ac4c",
   "metadata": {
    "_kg_hide-input": true,
    "_kg_hide-output": true,
    "execution": {
     "iopub.execute_input": "2022-08-10T20:43:53.559769Z",
     "iopub.status.busy": "2022-08-10T20:43:53.559163Z",
     "iopub.status.idle": "2022-08-10T20:43:53.608413Z",
     "shell.execute_reply": "2022-08-10T20:43:53.607324Z"
    },
    "papermill": {
     "duration": 0.059839,
     "end_time": "2022-08-10T20:43:53.610925",
     "exception": false,
     "start_time": "2022-08-10T20:43:53.551086",
     "status": "completed"
    },
    "tags": []
   },
   "outputs": [
    {
     "name": "stdout",
     "output_type": "stream",
     "text": [
      "Setup complete! You're ready to start question 0.\n"
     ]
    }
   ],
   "source": [
    "from learntools.core import binder; binder.bind(globals())\n",
    "from learntools.python.ex1 import *\n",
    "print(\"Setup complete! You're ready to start question 0.\")"
   ]
  },
  {
   "cell_type": "markdown",
   "id": "ab60b430",
   "metadata": {
    "papermill": {
     "duration": 0.006431,
     "end_time": "2022-08-10T20:43:53.624049",
     "exception": false,
     "start_time": "2022-08-10T20:43:53.617618",
     "status": "completed"
    },
    "tags": []
   },
   "source": [
    "# 0.\n",
    "\n",
    "*This is a silly question intended as an introduction to the format we use for hands-on exercises throughout all Kaggle courses.*\n",
    "\n",
    "**What is your favorite color? **\n",
    "\n",
    "To complete this question, create a variable called `color` in the cell below with an appropriate value. The function call `q0.check()` (which we've already provided in the cell below) will check your answer."
   ]
  },
  {
   "cell_type": "code",
   "execution_count": 3,
   "id": "8a0a71eb",
   "metadata": {
    "execution": {
     "iopub.execute_input": "2022-08-10T20:43:53.639404Z",
     "iopub.status.busy": "2022-08-10T20:43:53.638989Z",
     "iopub.status.idle": "2022-08-10T20:43:53.649662Z",
     "shell.execute_reply": "2022-08-10T20:43:53.648572Z"
    },
    "papermill": {
     "duration": 0.02122,
     "end_time": "2022-08-10T20:43:53.651960",
     "exception": false,
     "start_time": "2022-08-10T20:43:53.630740",
     "status": "completed"
    },
    "tags": []
   },
   "outputs": [
    {
     "data": {
      "application/javascript": [
       "parent.postMessage({\"jupyterEvent\": \"custom.exercise_interaction\", \"data\": {\"outcomeType\": 1, \"valueTowardsCompletion\": 0.25, \"interactionType\": 1, \"questionType\": 2, \"questionId\": \"0_ExerciseFormatTutorial\", \"learnToolsVersion\": \"0.3.4\", \"failureMessage\": \"\", \"exceptionClass\": \"\", \"trace\": \"\"}}, \"*\")"
      ],
      "text/plain": [
       "<IPython.core.display.Javascript object>"
      ]
     },
     "metadata": {},
     "output_type": "display_data"
    },
    {
     "data": {
      "text/markdown": [
       "<span style=\"color:#33cc33\">Correct:</span> What?! You got it right without needing a hint or anything? Drats. Well hey, you should still continue to the next step to get some practice asking for a hint and checking solutions. (Even though you obviously don't need any help here.)"
      ],
      "text/plain": [
       "Correct: What?! You got it right without needing a hint or anything? Drats. Well hey, you should still continue to the next step to get some practice asking for a hint and checking solutions. (Even though you obviously don't need any help here.)"
      ]
     },
     "metadata": {},
     "output_type": "display_data"
    }
   ],
   "source": [
    "# create a variable called color with an appropriate value on the line below\n",
    "color = 'blue'\n",
    "# (Remember, strings in Python must be enclosed in 'single' or \"double\" quotes)\n",
    "\n",
    "# Check your answer\n",
    "q0.check()"
   ]
  },
  {
   "cell_type": "markdown",
   "id": "3a6c9a3f",
   "metadata": {
    "papermill": {
     "duration": 0.006607,
     "end_time": "2022-08-10T20:43:53.665606",
     "exception": false,
     "start_time": "2022-08-10T20:43:53.658999",
     "status": "completed"
    },
    "tags": []
   },
   "source": [
    "Didn't get the right answer? How do you not even know your own favorite color?!\n",
    "\n",
    "Delete the `#` in the line below to make one of the lines run. You can choose between getting a hint or the full answer by choosing which line to remove the `#` from. \n",
    "\n",
    "Removing the `#` is called uncommenting, because it changes that line from a \"comment\" which Python doesn't run to code, which Python does run."
   ]
  },
  {
   "cell_type": "code",
   "execution_count": 4,
   "id": "a4f54ce1",
   "metadata": {
    "execution": {
     "iopub.execute_input": "2022-08-10T20:43:53.681778Z",
     "iopub.status.busy": "2022-08-10T20:43:53.680969Z",
     "iopub.status.idle": "2022-08-10T20:43:53.692632Z",
     "shell.execute_reply": "2022-08-10T20:43:53.691492Z"
    },
    "papermill": {
     "duration": 0.022798,
     "end_time": "2022-08-10T20:43:53.695206",
     "exception": false,
     "start_time": "2022-08-10T20:43:53.672408",
     "status": "completed"
    },
    "tags": []
   },
   "outputs": [
    {
     "data": {
      "application/javascript": [
       "parent.postMessage({\"jupyterEvent\": \"custom.exercise_interaction\", \"data\": {\"interactionType\": 2, \"questionType\": 2, \"questionId\": \"0_ExerciseFormatTutorial\", \"learnToolsVersion\": \"0.3.4\", \"valueTowardsCompletion\": 0.0, \"failureMessage\": \"\", \"exceptionClass\": \"\", \"trace\": \"\", \"outcomeType\": 4}}, \"*\")"
      ],
      "text/plain": [
       "<IPython.core.display.Javascript object>"
      ]
     },
     "metadata": {},
     "output_type": "display_data"
    },
    {
     "data": {
      "text/markdown": [
       "<span style=\"color:#3366cc\">Hint:</span> Your favorite color rhymes with *glue*."
      ],
      "text/plain": [
       "Hint: Your favorite color rhymes with *glue*."
      ]
     },
     "metadata": {},
     "output_type": "display_data"
    },
    {
     "data": {
      "application/javascript": [
       "parent.postMessage({\"jupyterEvent\": \"custom.exercise_interaction\", \"data\": {\"interactionType\": 3, \"questionType\": 2, \"questionId\": \"0_ExerciseFormatTutorial\", \"learnToolsVersion\": \"0.3.4\", \"valueTowardsCompletion\": 0.0, \"failureMessage\": \"\", \"exceptionClass\": \"\", \"trace\": \"\", \"outcomeType\": 4}}, \"*\")"
      ],
      "text/plain": [
       "<IPython.core.display.Javascript object>"
      ]
     },
     "metadata": {},
     "output_type": "display_data"
    },
    {
     "data": {
      "text/markdown": [
       "<span style=\"color:#33cc99\">Solution:</span> \n",
       "```python\n",
       "color = \"blue\"\n",
       "```"
      ],
      "text/plain": [
       "Solution: \n",
       "```python\n",
       "color = \"blue\"\n",
       "```"
      ]
     },
     "metadata": {},
     "output_type": "display_data"
    }
   ],
   "source": [
    "q0.hint()\n",
    "q0.solution()"
   ]
  },
  {
   "cell_type": "markdown",
   "id": "37637c05",
   "metadata": {
    "papermill": {
     "duration": 0.00697,
     "end_time": "2022-08-10T20:43:53.709712",
     "exception": false,
     "start_time": "2022-08-10T20:43:53.702742",
     "status": "completed"
    },
    "tags": []
   },
   "source": [
    "The upcoming questions work the same way. The only thing that will change are the question numbers. For the next question, you'll call `q1.check()`, `q1.hint()`, `q1.solution()`, for question 2, you'll call `q2.check()`, and so on."
   ]
  },
  {
   "cell_type": "markdown",
   "id": "0ab43b26",
   "metadata": {
    "papermill": {
     "duration": 0.006924,
     "end_time": "2022-08-10T20:43:53.724054",
     "exception": false,
     "start_time": "2022-08-10T20:43:53.717130",
     "status": "completed"
    },
    "tags": []
   },
   "source": [
    "<hr/>\n",
    "\n",
    "# 1.\n",
    "\n",
    "Complete the code below. In case it's helpful, here is the table of available arithmetic operations:\n",
    "\n",
    "\n",
    "\n",
    "| Operator     | Name           | Description                                            |\n",
    "|--------------|----------------|--------------------------------------------------------|\n",
    "| ``a + b``    | Addition       | Sum of ``a`` and ``b``                                 |\n",
    "| ``a - b``    | Subtraction    | Difference of ``a`` and ``b``                          |\n",
    "| ``a * b``    | Multiplication | Product of ``a`` and ``b``                             |\n",
    "| ``a / b``    | True division  | Quotient of ``a`` and ``b``                            |\n",
    "| ``a // b``   | Floor division | Quotient of ``a`` and ``b``, removing fractional parts |\n",
    "| ``a % b``    | Modulus        | Integer remainder after division of ``a`` by ``b``     |\n",
    "| ``a ** b``   | Exponentiation | ``a`` raised to the power of ``b``                     |\n",
    "| ``-a``       | Negation       | The negative of ``a``                                  |\n",
    "\n",
    "<span style=\"display:none\"></span>\n"
   ]
  },
  {
   "cell_type": "code",
   "execution_count": 5,
   "id": "8081ce6a",
   "metadata": {
    "execution": {
     "iopub.execute_input": "2022-08-10T20:43:53.740368Z",
     "iopub.status.busy": "2022-08-10T20:43:53.739926Z",
     "iopub.status.idle": "2022-08-10T20:43:53.750824Z",
     "shell.execute_reply": "2022-08-10T20:43:53.749632Z"
    },
    "papermill": {
     "duration": 0.021853,
     "end_time": "2022-08-10T20:43:53.753150",
     "exception": false,
     "start_time": "2022-08-10T20:43:53.731297",
     "status": "completed"
    },
    "tags": []
   },
   "outputs": [
    {
     "data": {
      "application/javascript": [
       "parent.postMessage({\"jupyterEvent\": \"custom.exercise_interaction\", \"data\": {\"outcomeType\": 1, \"valueTowardsCompletion\": 0.25, \"interactionType\": 1, \"questionType\": 1, \"questionId\": \"1_CircleArea\", \"learnToolsVersion\": \"0.3.4\", \"failureMessage\": \"\", \"exceptionClass\": \"\", \"trace\": \"\"}}, \"*\")"
      ],
      "text/plain": [
       "<IPython.core.display.Javascript object>"
      ]
     },
     "metadata": {},
     "output_type": "display_data"
    },
    {
     "data": {
      "text/markdown": [
       "<span style=\"color:#33cc33\">Correct</span>"
      ],
      "text/plain": [
       "Correct"
      ]
     },
     "metadata": {},
     "output_type": "display_data"
    }
   ],
   "source": [
    "pi = 3.14159 # approximate\n",
    "diameter = 3\n",
    "\n",
    "# Create a variable called 'radius' equal to half the diameter\n",
    "____\n",
    "radius = diameter / 2\n",
    "# Create a variable called 'area', using the formula for the area of a circle: pi times the radius squared\n",
    "____\n",
    "area = pi * radius**2\n",
    "# Check your answer\n",
    "q1.check()"
   ]
  },
  {
   "cell_type": "code",
   "execution_count": 6,
   "id": "9630b4cf",
   "metadata": {
    "execution": {
     "iopub.execute_input": "2022-08-10T20:43:53.771118Z",
     "iopub.status.busy": "2022-08-10T20:43:53.770723Z",
     "iopub.status.idle": "2022-08-10T20:43:53.775065Z",
     "shell.execute_reply": "2022-08-10T20:43:53.773977Z"
    },
    "papermill": {
     "duration": 0.015767,
     "end_time": "2022-08-10T20:43:53.777481",
     "exception": false,
     "start_time": "2022-08-10T20:43:53.761714",
     "status": "completed"
    },
    "tags": []
   },
   "outputs": [],
   "source": [
    "# Uncomment and run the lines below if you need help.\n",
    "#q1.hint()\n",
    "#q1.solution()"
   ]
  },
  {
   "cell_type": "markdown",
   "id": "bcbc1d5b",
   "metadata": {
    "papermill": {
     "duration": 0.007384,
     "end_time": "2022-08-10T20:43:53.792795",
     "exception": false,
     "start_time": "2022-08-10T20:43:53.785411",
     "status": "completed"
    },
    "tags": []
   },
   "source": [
    "<hr/>\n",
    "\n",
    "# 2.\n",
    "\n",
    "Add code to the following cell to swap variables `a` and `b` (so that `a` refers to the object previously referred to by `b` and vice versa)."
   ]
  },
  {
   "cell_type": "code",
   "execution_count": 7,
   "id": "5b7fb2fc",
   "metadata": {
    "execution": {
     "iopub.execute_input": "2022-08-10T20:43:53.810164Z",
     "iopub.status.busy": "2022-08-10T20:43:53.809613Z",
     "iopub.status.idle": "2022-08-10T20:43:53.821655Z",
     "shell.execute_reply": "2022-08-10T20:43:53.820794Z"
    },
    "papermill": {
     "duration": 0.023379,
     "end_time": "2022-08-10T20:43:53.823924",
     "exception": false,
     "start_time": "2022-08-10T20:43:53.800545",
     "status": "completed"
    },
    "tags": []
   },
   "outputs": [
    {
     "data": {
      "application/javascript": [
       "parent.postMessage({\"jupyterEvent\": \"custom.exercise_interaction\", \"data\": {\"outcomeType\": 1, \"valueTowardsCompletion\": 0.25, \"interactionType\": 1, \"questionType\": 2, \"questionId\": \"2_VariableSwap\", \"learnToolsVersion\": \"0.3.4\", \"failureMessage\": \"\", \"exceptionClass\": \"\", \"trace\": \"\"}}, \"*\")"
      ],
      "text/plain": [
       "<IPython.core.display.Javascript object>"
      ]
     },
     "metadata": {},
     "output_type": "display_data"
    },
    {
     "data": {
      "text/markdown": [
       "<span style=\"color:#33cc33\">Correct:</span> \n",
       "\n",
       "The most straightforward solution is to use a third variable to temporarily store one of the old values. e.g.:\n",
       "\n",
       "    tmp = a\n",
       "    a = b\n",
       "    b = tmp\n",
       "\n",
       "If you've read lots of Python code, you might have seen the following trick to swap two variables in one line:\n",
       "\n",
       "    a, b = b, a\n",
       "\n",
       "We'll demystify this bit of Python magic later when we talk about *tuples*."
      ],
      "text/plain": [
       "Correct: \n",
       "\n",
       "The most straightforward solution is to use a third variable to temporarily store one of the old values. e.g.:\n",
       "\n",
       "    tmp = a\n",
       "    a = b\n",
       "    b = tmp\n",
       "\n",
       "If you've read lots of Python code, you might have seen the following trick to swap two variables in one line:\n",
       "\n",
       "    a, b = b, a\n",
       "\n",
       "We'll demystify this bit of Python magic later when we talk about *tuples*."
      ]
     },
     "metadata": {},
     "output_type": "display_data"
    }
   ],
   "source": [
    "########### Setup code - don't touch this part ######################\n",
    "# If you're curious, these are examples of lists. We'll talk about \n",
    "# them in depth a few lessons from now. For now, just know that they're\n",
    "# yet another type of Python object, like int or float.\n",
    "a = [1, 2, 3]\n",
    "b = [3, 2, 1]\n",
    "q2.store_original_ids()\n",
    "######################################################################\n",
    "\n",
    "# Your code goes here. Swap the values to which a and b refer.\n",
    "# If you get stuck, you can always uncomment one or both of the lines in\n",
    "# the next cell for a hint, or to peek at the solution.\n",
    "\n",
    "c=a\n",
    "d=b\n",
    "b=c\n",
    "a=d\n",
    "\n",
    "######################################################################\n",
    "\n",
    "# Check your answer\n",
    "q2.check()"
   ]
  },
  {
   "cell_type": "code",
   "execution_count": 8,
   "id": "96b3206f",
   "metadata": {
    "execution": {
     "iopub.execute_input": "2022-08-10T20:43:53.841919Z",
     "iopub.status.busy": "2022-08-10T20:43:53.841137Z",
     "iopub.status.idle": "2022-08-10T20:43:53.846238Z",
     "shell.execute_reply": "2022-08-10T20:43:53.845330Z"
    },
    "papermill": {
     "duration": 0.017234,
     "end_time": "2022-08-10T20:43:53.848953",
     "exception": false,
     "start_time": "2022-08-10T20:43:53.831719",
     "status": "completed"
    },
    "tags": []
   },
   "outputs": [],
   "source": [
    "#q2.hint()"
   ]
  },
  {
   "cell_type": "code",
   "execution_count": 9,
   "id": "12f5f601",
   "metadata": {
    "execution": {
     "iopub.execute_input": "2022-08-10T20:43:53.867174Z",
     "iopub.status.busy": "2022-08-10T20:43:53.866396Z",
     "iopub.status.idle": "2022-08-10T20:43:53.871096Z",
     "shell.execute_reply": "2022-08-10T20:43:53.870312Z"
    },
    "papermill": {
     "duration": 0.016531,
     "end_time": "2022-08-10T20:43:53.873411",
     "exception": false,
     "start_time": "2022-08-10T20:43:53.856880",
     "status": "completed"
    },
    "tags": []
   },
   "outputs": [],
   "source": [
    "#q2.solution()"
   ]
  },
  {
   "cell_type": "markdown",
   "id": "97a65443",
   "metadata": {
    "papermill": {
     "duration": 0.007523,
     "end_time": "2022-08-10T20:43:53.888818",
     "exception": false,
     "start_time": "2022-08-10T20:43:53.881295",
     "status": "completed"
    },
    "tags": []
   },
   "source": [
    "<hr/>\n",
    "\n",
    "# 3a.\n",
    "\n",
    "Add parentheses to the following expression so that it evaluates to 1."
   ]
  },
  {
   "cell_type": "code",
   "execution_count": 10,
   "id": "3efd3b38",
   "metadata": {
    "execution": {
     "iopub.execute_input": "2022-08-10T20:43:53.907104Z",
     "iopub.status.busy": "2022-08-10T20:43:53.906349Z",
     "iopub.status.idle": "2022-08-10T20:43:53.913434Z",
     "shell.execute_reply": "2022-08-10T20:43:53.912192Z"
    },
    "papermill": {
     "duration": 0.018899,
     "end_time": "2022-08-10T20:43:53.915697",
     "exception": false,
     "start_time": "2022-08-10T20:43:53.896798",
     "status": "completed"
    },
    "tags": []
   },
   "outputs": [
    {
     "data": {
      "text/plain": [
       "1"
      ]
     },
     "execution_count": 10,
     "metadata": {},
     "output_type": "execute_result"
    }
   ],
   "source": [
    "(5 - 3 )// 2"
   ]
  },
  {
   "cell_type": "code",
   "execution_count": 11,
   "id": "2aba295b",
   "metadata": {
    "execution": {
     "iopub.execute_input": "2022-08-10T20:43:53.934182Z",
     "iopub.status.busy": "2022-08-10T20:43:53.933385Z",
     "iopub.status.idle": "2022-08-10T20:43:53.938380Z",
     "shell.execute_reply": "2022-08-10T20:43:53.937357Z"
    },
    "papermill": {
     "duration": 0.017483,
     "end_time": "2022-08-10T20:43:53.941225",
     "exception": false,
     "start_time": "2022-08-10T20:43:53.923742",
     "status": "completed"
    },
    "tags": []
   },
   "outputs": [],
   "source": [
    "#q3.a.hint()"
   ]
  },
  {
   "cell_type": "code",
   "execution_count": 12,
   "id": "0b63b258",
   "metadata": {
    "execution": {
     "iopub.execute_input": "2022-08-10T20:43:53.960126Z",
     "iopub.status.busy": "2022-08-10T20:43:53.959354Z",
     "iopub.status.idle": "2022-08-10T20:43:53.963877Z",
     "shell.execute_reply": "2022-08-10T20:43:53.963100Z"
    },
    "papermill": {
     "duration": 0.016426,
     "end_time": "2022-08-10T20:43:53.966150",
     "exception": false,
     "start_time": "2022-08-10T20:43:53.949724",
     "status": "completed"
    },
    "tags": []
   },
   "outputs": [],
   "source": [
    "# Check your answer (Run this code cell to receive credit!)\n",
    "#q3.a.solution()"
   ]
  },
  {
   "cell_type": "markdown",
   "id": "5053e0ec",
   "metadata": {
    "papermill": {
     "duration": 0.008035,
     "end_time": "2022-08-10T20:43:53.982396",
     "exception": false,
     "start_time": "2022-08-10T20:43:53.974361",
     "status": "completed"
    },
    "tags": []
   },
   "source": [
    "# 3b.  <span title=\"A bit spicy\" style=\"color: darkgreen \">🌶️</span>\n",
    "\n",
    "<small>Questions, like this one, marked a spicy pepper are a bit harder.</small>\n",
    "\n",
    "Add parentheses to the following expression so that it evaluates to 0."
   ]
  },
  {
   "cell_type": "code",
   "execution_count": 13,
   "id": "cd5efb6a",
   "metadata": {
    "execution": {
     "iopub.execute_input": "2022-08-10T20:43:54.001131Z",
     "iopub.status.busy": "2022-08-10T20:43:54.000301Z",
     "iopub.status.idle": "2022-08-10T20:43:54.007428Z",
     "shell.execute_reply": "2022-08-10T20:43:54.006509Z"
    },
    "papermill": {
     "duration": 0.019115,
     "end_time": "2022-08-10T20:43:54.009691",
     "exception": false,
     "start_time": "2022-08-10T20:43:53.990576",
     "status": "completed"
    },
    "tags": []
   },
   "outputs": [
    {
     "data": {
      "text/plain": [
       "0"
      ]
     },
     "execution_count": 13,
     "metadata": {},
     "output_type": "execute_result"
    }
   ],
   "source": [
    "8 - 3 * 2 - (1 + 1)"
   ]
  },
  {
   "cell_type": "code",
   "execution_count": 14,
   "id": "dce66913",
   "metadata": {
    "execution": {
     "iopub.execute_input": "2022-08-10T20:43:54.028513Z",
     "iopub.status.busy": "2022-08-10T20:43:54.027739Z",
     "iopub.status.idle": "2022-08-10T20:43:54.032369Z",
     "shell.execute_reply": "2022-08-10T20:43:54.031596Z"
    },
    "papermill": {
     "duration": 0.016708,
     "end_time": "2022-08-10T20:43:54.034549",
     "exception": false,
     "start_time": "2022-08-10T20:43:54.017841",
     "status": "completed"
    },
    "tags": []
   },
   "outputs": [],
   "source": [
    "#q3.b.hint()"
   ]
  },
  {
   "cell_type": "code",
   "execution_count": 15,
   "id": "5faad6a1",
   "metadata": {
    "execution": {
     "iopub.execute_input": "2022-08-10T20:43:54.053236Z",
     "iopub.status.busy": "2022-08-10T20:43:54.052515Z",
     "iopub.status.idle": "2022-08-10T20:43:54.061269Z",
     "shell.execute_reply": "2022-08-10T20:43:54.060388Z"
    },
    "papermill": {
     "duration": 0.02075,
     "end_time": "2022-08-10T20:43:54.063449",
     "exception": false,
     "start_time": "2022-08-10T20:43:54.042699",
     "status": "completed"
    },
    "tags": []
   },
   "outputs": [
    {
     "data": {
      "application/javascript": [
       "parent.postMessage({\"jupyterEvent\": \"custom.exercise_interaction\", \"data\": {\"interactionType\": 3, \"questionType\": 4, \"questionId\": \"3.2_ArithmeticParensHard\", \"learnToolsVersion\": \"0.3.4\", \"valueTowardsCompletion\": 0.0, \"failureMessage\": \"\", \"exceptionClass\": \"\", \"trace\": \"\", \"outcomeType\": 4}}, \"*\")"
      ],
      "text/plain": [
       "<IPython.core.display.Javascript object>"
      ]
     },
     "metadata": {},
     "output_type": "display_data"
    },
    {
     "data": {
      "text/markdown": [
       "<span style=\"color:#33cc99\">Solution:</span> `(8 - 3) * (2 - (1 + 1))` is one solution. There may be others."
      ],
      "text/plain": [
       "Solution: `(8 - 3) * (2 - (1 + 1))` is one solution. There may be others."
      ]
     },
     "metadata": {},
     "output_type": "display_data"
    }
   ],
   "source": [
    "#Check your answer (Run this code cell to receive credit!)\n",
    "q3.b.solution()"
   ]
  },
  {
   "cell_type": "markdown",
   "id": "098ff97c",
   "metadata": {
    "papermill": {
     "duration": 0.008321,
     "end_time": "2022-08-10T20:43:54.080271",
     "exception": false,
     "start_time": "2022-08-10T20:43:54.071950",
     "status": "completed"
    },
    "tags": []
   },
   "source": [
    "<hr/>\n",
    "\n",
    "# 4. \n",
    "Alice, Bob and Carol have agreed to pool their Halloween candy and split it evenly among themselves.\n",
    "For the sake of their friendship, any candies left over will be smashed. For example, if they collectively\n",
    "bring home 91 candies, they'll take 30 each and smash 1.\n",
    "\n",
    "Write an arithmetic expression below to calculate how many candies they must smash for a given haul."
   ]
  },
  {
   "cell_type": "code",
   "execution_count": 16,
   "id": "5a61d38d",
   "metadata": {
    "execution": {
     "iopub.execute_input": "2022-08-10T20:43:54.099078Z",
     "iopub.status.busy": "2022-08-10T20:43:54.098656Z",
     "iopub.status.idle": "2022-08-10T20:43:54.107627Z",
     "shell.execute_reply": "2022-08-10T20:43:54.106764Z"
    },
    "papermill": {
     "duration": 0.020966,
     "end_time": "2022-08-10T20:43:54.109743",
     "exception": false,
     "start_time": "2022-08-10T20:43:54.088777",
     "status": "completed"
    },
    "tags": []
   },
   "outputs": [
    {
     "data": {
      "application/javascript": [
       "parent.postMessage({\"jupyterEvent\": \"custom.exercise_interaction\", \"data\": {\"outcomeType\": 1, \"valueTowardsCompletion\": 0.25, \"interactionType\": 1, \"questionType\": 1, \"questionId\": \"4_CandySplitting\", \"learnToolsVersion\": \"0.3.4\", \"failureMessage\": \"\", \"exceptionClass\": \"\", \"trace\": \"\"}}, \"*\")"
      ],
      "text/plain": [
       "<IPython.core.display.Javascript object>"
      ]
     },
     "metadata": {},
     "output_type": "display_data"
    },
    {
     "data": {
      "text/markdown": [
       "<span style=\"color:#33cc33\">Correct</span>"
      ],
      "text/plain": [
       "Correct"
      ]
     },
     "metadata": {},
     "output_type": "display_data"
    }
   ],
   "source": [
    "# Variables representing the number of candies collected by alice, bob, and carol\n",
    "alice_candies = 121\n",
    "bob_candies = 77\n",
    "carol_candies = 109\n",
    "\n",
    "# Your code goes here! Replace the right-hand side of this assignment with an expression\n",
    "# involving alice_candies, bob_candies, and carol_candies\n",
    "to_smash = (alice_candies + bob_candies + carol_candies) % 3\n",
    "\n",
    "\n",
    "\n",
    "# Check your answer\n",
    "q4.check()"
   ]
  },
  {
   "cell_type": "code",
   "execution_count": 17,
   "id": "c53f1326",
   "metadata": {
    "execution": {
     "iopub.execute_input": "2022-08-10T20:43:54.129129Z",
     "iopub.status.busy": "2022-08-10T20:43:54.128700Z",
     "iopub.status.idle": "2022-08-10T20:43:54.133380Z",
     "shell.execute_reply": "2022-08-10T20:43:54.132291Z"
    },
    "papermill": {
     "duration": 0.017099,
     "end_time": "2022-08-10T20:43:54.135761",
     "exception": false,
     "start_time": "2022-08-10T20:43:54.118662",
     "status": "completed"
    },
    "tags": []
   },
   "outputs": [],
   "source": [
    "#q4.hint()\n",
    "#q4.solution()"
   ]
  },
  {
   "cell_type": "markdown",
   "id": "8fc65786",
   "metadata": {
    "papermill": {
     "duration": 0.008545,
     "end_time": "2022-08-10T20:43:54.152997",
     "exception": false,
     "start_time": "2022-08-10T20:43:54.144452",
     "status": "completed"
    },
    "tags": []
   },
   "source": [
    "# Keep Going\n",
    "\n",
    "Next up, you'll **[learn to write new functions and understand functions others write](https://www.kaggle.com/colinmorris/functions-and-getting-help)**. This will make you at least 10 times more productive as a Python programmer. "
   ]
  },
  {
   "cell_type": "markdown",
   "id": "5ddc79a4",
   "metadata": {
    "papermill": {
     "duration": 0.008249,
     "end_time": "2022-08-10T20:43:54.169861",
     "exception": false,
     "start_time": "2022-08-10T20:43:54.161612",
     "status": "completed"
    },
    "tags": []
   },
   "source": [
    "---\n",
    "\n",
    "\n",
    "\n",
    "\n",
    "*Have questions or comments? Visit the [course discussion forum](https://www.kaggle.com/learn/python/discussion) to chat with other learners.*"
   ]
  }
 ],
 "metadata": {
  "kernelspec": {
   "display_name": "Python 3",
   "language": "python",
   "name": "python3"
  },
  "language_info": {
   "codemirror_mode": {
    "name": "ipython",
    "version": 3
   },
   "file_extension": ".py",
   "mimetype": "text/x-python",
   "name": "python",
   "nbconvert_exporter": "python",
   "pygments_lexer": "ipython3",
   "version": "3.7.12"
  },
  "papermill": {
   "default_parameters": {},
   "duration": 10.719985,
   "end_time": "2022-08-10T20:43:54.806184",
   "environment_variables": {},
   "exception": null,
   "input_path": "__notebook__.ipynb",
   "output_path": "__notebook__.ipynb",
   "parameters": {},
   "start_time": "2022-08-10T20:43:44.086199",
   "version": "2.3.4"
  }
 },
 "nbformat": 4,
 "nbformat_minor": 5
}
