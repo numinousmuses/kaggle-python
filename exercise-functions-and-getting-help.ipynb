{
 "cells": [
  {
   "cell_type": "markdown",
   "id": "8b15d0cc",
   "metadata": {
    "papermill": {
     "duration": 0.006137,
     "end_time": "2022-08-10T20:46:04.139388",
     "exception": false,
     "start_time": "2022-08-10T20:46:04.133251",
     "status": "completed"
    },
    "tags": []
   },
   "source": [
    "**This notebook is an exercise in the [Python](https://www.kaggle.com/learn/python) course.  You can reference the tutorial at [this link](https://www.kaggle.com/colinmorris/functions-and-getting-help).**\n",
    "\n",
    "---\n"
   ]
  },
  {
   "cell_type": "markdown",
   "id": "b9b013a2",
   "metadata": {
    "papermill": {
     "duration": 0.004626,
     "end_time": "2022-08-10T20:46:04.149272",
     "exception": false,
     "start_time": "2022-08-10T20:46:04.144646",
     "status": "completed"
    },
    "tags": []
   },
   "source": [
    "Functions are powerful. Try writing some yourself.\n",
    "\n",
    "As before, don't forget to run the setup code below before jumping into question 1."
   ]
  },
  {
   "cell_type": "code",
   "execution_count": 1,
   "id": "359b5277",
   "metadata": {
    "_kg_hide-input": true,
    "_kg_hide-output": true,
    "execution": {
     "iopub.execute_input": "2022-08-10T20:46:04.161976Z",
     "iopub.status.busy": "2022-08-10T20:46:04.160937Z",
     "iopub.status.idle": "2022-08-10T20:46:04.221668Z",
     "shell.execute_reply": "2022-08-10T20:46:04.219948Z"
    },
    "papermill": {
     "duration": 0.07041,
     "end_time": "2022-08-10T20:46:04.224614",
     "exception": false,
     "start_time": "2022-08-10T20:46:04.154204",
     "status": "completed"
    },
    "tags": []
   },
   "outputs": [
    {
     "name": "stdout",
     "output_type": "stream",
     "text": [
      "Setup complete.\n"
     ]
    }
   ],
   "source": [
    "# SETUP. You don't need to worry for now about what this code does or how it works.\n",
    "from learntools.core import binder; binder.bind(globals())\n",
    "from learntools.python.ex2 import *\n",
    "print('Setup complete.')"
   ]
  },
  {
   "cell_type": "markdown",
   "id": "2111df62",
   "metadata": {
    "papermill": {
     "duration": 0.005952,
     "end_time": "2022-08-10T20:46:04.236694",
     "exception": false,
     "start_time": "2022-08-10T20:46:04.230742",
     "status": "completed"
    },
    "tags": []
   },
   "source": [
    "# 1.\n",
    "\n",
    "Complete the body of the following function according to its docstring.\n",
    "\n",
    "HINT: Python has a built-in function `round`."
   ]
  },
  {
   "cell_type": "code",
   "execution_count": 2,
   "id": "5441d1bf",
   "metadata": {
    "execution": {
     "iopub.execute_input": "2022-08-10T20:46:04.250781Z",
     "iopub.status.busy": "2022-08-10T20:46:04.250383Z",
     "iopub.status.idle": "2022-08-10T20:46:04.265702Z",
     "shell.execute_reply": "2022-08-10T20:46:04.264241Z"
    },
    "papermill": {
     "duration": 0.026404,
     "end_time": "2022-08-10T20:46:04.268497",
     "exception": false,
     "start_time": "2022-08-10T20:46:04.242093",
     "status": "completed"
    },
    "tags": []
   },
   "outputs": [
    {
     "name": "stdout",
     "output_type": "stream",
     "text": [
      "3.14\n"
     ]
    },
    {
     "data": {
      "application/javascript": [
       "parent.postMessage({\"jupyterEvent\": \"custom.exercise_interaction\", \"data\": {\"outcomeType\": 1, \"valueTowardsCompletion\": 0.16666666666666666, \"interactionType\": 1, \"questionType\": 2, \"questionId\": \"1_RoundFunctionProblem\", \"learnToolsVersion\": \"0.3.4\", \"failureMessage\": \"\", \"exceptionClass\": \"\", \"trace\": \"\"}}, \"*\")"
      ],
      "text/plain": [
       "<IPython.core.display.Javascript object>"
      ]
     },
     "metadata": {},
     "output_type": "display_data"
    },
    {
     "data": {
      "text/markdown": [
       "<span style=\"color:#33cc33\">Correct</span>"
      ],
      "text/plain": [
       "Correct"
      ]
     },
     "metadata": {},
     "output_type": "display_data"
    }
   ],
   "source": [
    "def round_to_two_places(num):\n",
    "    \"\"\"Return the given number rounded to two decimal places. \n",
    "    \n",
    "    >>> round_to_two_places(3.14159)\n",
    "    3.14\n",
    "    \"\"\"\n",
    "    return round(num, 2)\n",
    "    # Replace this body with your own code.\n",
    "    # (\"pass\" is a keyword that does literally nothing. We used it as a placeholder\n",
    "    # because after we begin a code block, Python requires at least one line of code)\n",
    "    pass\n",
    "print(round_to_two_places(3.14159))\n",
    "# Check your answer\n",
    "q1.check()"
   ]
  },
  {
   "cell_type": "code",
   "execution_count": 3,
   "id": "433a83bd",
   "metadata": {
    "execution": {
     "iopub.execute_input": "2022-08-10T20:46:04.282040Z",
     "iopub.status.busy": "2022-08-10T20:46:04.281213Z",
     "iopub.status.idle": "2022-08-10T20:46:04.289303Z",
     "shell.execute_reply": "2022-08-10T20:46:04.288083Z"
    },
    "papermill": {
     "duration": 0.022539,
     "end_time": "2022-08-10T20:46:04.296700",
     "exception": false,
     "start_time": "2022-08-10T20:46:04.274161",
     "status": "completed"
    },
    "tags": []
   },
   "outputs": [
    {
     "name": "stdout",
     "output_type": "stream",
     "text": [
      "Help on built-in function round in module builtins:\n",
      "\n",
      "round(number, ndigits=None)\n",
      "    Round a number to a given precision in decimal digits.\n",
      "    \n",
      "    The return value is an integer if ndigits is omitted or None.  Otherwise\n",
      "    the return value has the same type as the number.  ndigits may be negative.\n",
      "\n"
     ]
    }
   ],
   "source": [
    "help(round)\n",
    "# Uncomment the following for a hint\n",
    "#q1.hint()\n",
    "# Or uncomment the following to peek at the solution\n",
    "#q1.solution()"
   ]
  },
  {
   "cell_type": "markdown",
   "id": "40584498",
   "metadata": {
    "papermill": {
     "duration": 0.005142,
     "end_time": "2022-08-10T20:46:04.308069",
     "exception": false,
     "start_time": "2022-08-10T20:46:04.302927",
     "status": "completed"
    },
    "tags": []
   },
   "source": [
    "# 2.\n",
    "The help for `round` says that `ndigits` (the second argument) may be negative.\n",
    "What do you think will happen when it is? Try some examples in the following cell."
   ]
  },
  {
   "cell_type": "code",
   "execution_count": 4,
   "id": "3337a610",
   "metadata": {
    "execution": {
     "iopub.execute_input": "2022-08-10T20:46:04.320177Z",
     "iopub.status.busy": "2022-08-10T20:46:04.319778Z",
     "iopub.status.idle": "2022-08-10T20:46:04.326152Z",
     "shell.execute_reply": "2022-08-10T20:46:04.325264Z"
    },
    "papermill": {
     "duration": 0.015082,
     "end_time": "2022-08-10T20:46:04.328474",
     "exception": false,
     "start_time": "2022-08-10T20:46:04.313392",
     "status": "completed"
    },
    "tags": []
   },
   "outputs": [
    {
     "data": {
      "text/plain": [
       "3500.0"
      ]
     },
     "execution_count": 4,
     "metadata": {},
     "output_type": "execute_result"
    }
   ],
   "source": [
    "round(3453.14159, -2)\n",
    "# Put your test code here"
   ]
  },
  {
   "cell_type": "markdown",
   "id": "3f013cd7",
   "metadata": {
    "papermill": {
     "duration": 0.005161,
     "end_time": "2022-08-10T20:46:04.339488",
     "exception": false,
     "start_time": "2022-08-10T20:46:04.334327",
     "status": "completed"
    },
    "tags": []
   },
   "source": [
    "Can you think of a case where this would be useful?  Once you're ready, run the code cell below to see the answer and to receive credit for completing the problem."
   ]
  },
  {
   "cell_type": "code",
   "execution_count": 5,
   "id": "480ad80c",
   "metadata": {
    "execution": {
     "iopub.execute_input": "2022-08-10T20:46:04.352807Z",
     "iopub.status.busy": "2022-08-10T20:46:04.352043Z",
     "iopub.status.idle": "2022-08-10T20:46:04.360262Z",
     "shell.execute_reply": "2022-08-10T20:46:04.359371Z"
    },
    "papermill": {
     "duration": 0.01758,
     "end_time": "2022-08-10T20:46:04.362585",
     "exception": false,
     "start_time": "2022-08-10T20:46:04.345005",
     "status": "completed"
    },
    "tags": []
   },
   "outputs": [
    {
     "data": {
      "application/javascript": [
       "parent.postMessage({\"jupyterEvent\": \"custom.exercise_interaction\", \"data\": {\"interactionType\": 3, \"questionType\": 4, \"questionId\": \"2_RoundNdigitsProblem\", \"learnToolsVersion\": \"0.3.4\", \"valueTowardsCompletion\": 0.0, \"failureMessage\": \"\", \"exceptionClass\": \"\", \"trace\": \"\", \"outcomeType\": 4}}, \"*\")"
      ],
      "text/plain": [
       "<IPython.core.display.Javascript object>"
      ]
     },
     "metadata": {},
     "output_type": "display_data"
    },
    {
     "data": {
      "text/markdown": [
       "<span style=\"color:#33cc99\">Solution:</span> As you've seen, `ndigits=-1` rounds to the nearest 10, `ndigits=-2` rounds to the nearest 100 and so on. Where might this be useful? Suppose we're dealing with large numbers:\n",
       "\n",
       "> The area of Finland is 338,424 km²  \n",
       "> The area of Greenland is 2,166,086 km²\n",
       "\n",
       "We probably don't care whether it's really 338,424, or 338,425, or 338,177. All those digits of accuracy are just distracting. We can chop them off by calling `round()` with `ndigits=-3`:\n",
       "\n",
       "> The area of Finland is 338,000 km²  \n",
       "> The area of Greenland is 2,166,000 km²\n",
       "\n",
       "(We'll talk about how we would get the commas later when we talk about string formatting :))\n"
      ],
      "text/plain": [
       "Solution: As you've seen, `ndigits=-1` rounds to the nearest 10, `ndigits=-2` rounds to the nearest 100 and so on. Where might this be useful? Suppose we're dealing with large numbers:\n",
       "\n",
       "> The area of Finland is 338,424 km²  \n",
       "> The area of Greenland is 2,166,086 km²\n",
       "\n",
       "We probably don't care whether it's really 338,424, or 338,425, or 338,177. All those digits of accuracy are just distracting. We can chop them off by calling `round()` with `ndigits=-3`:\n",
       "\n",
       "> The area of Finland is 338,000 km²  \n",
       "> The area of Greenland is 2,166,000 km²\n",
       "\n",
       "(We'll talk about how we would get the commas later when we talk about string formatting :))"
      ]
     },
     "metadata": {},
     "output_type": "display_data"
    }
   ],
   "source": [
    "# Check your answer (Run this code cell to receive credit!)\n",
    "q2.solution()"
   ]
  },
  {
   "cell_type": "markdown",
   "id": "cb979b19",
   "metadata": {
    "papermill": {
     "duration": 0.00552,
     "end_time": "2022-08-10T20:46:04.374150",
     "exception": false,
     "start_time": "2022-08-10T20:46:04.368630",
     "status": "completed"
    },
    "tags": []
   },
   "source": [
    "# 3.\n",
    "\n",
    "In the previous exercise, the candy-sharing friends Alice, Bob and Carol tried to split candies evenly. For the sake of their friendship, any candies left over would be smashed. For example, if they collectively bring home 91 candies, they'll take 30 each and smash 1.\n",
    "\n",
    "Below is a simple function that will calculate the number of candies to smash for *any* number of total candies.\n",
    "\n",
    "Modify it so that it optionally takes a second argument representing the number of friends the candies are being split between. If no second argument is provided, it should assume 3 friends, as before.\n",
    "\n",
    "Update the docstring to reflect this new behaviour."
   ]
  },
  {
   "cell_type": "code",
   "execution_count": 6,
   "id": "6f138ded",
   "metadata": {
    "execution": {
     "iopub.execute_input": "2022-08-10T20:46:04.387532Z",
     "iopub.status.busy": "2022-08-10T20:46:04.387104Z",
     "iopub.status.idle": "2022-08-10T20:46:04.395203Z",
     "shell.execute_reply": "2022-08-10T20:46:04.394428Z"
    },
    "papermill": {
     "duration": 0.017481,
     "end_time": "2022-08-10T20:46:04.397423",
     "exception": false,
     "start_time": "2022-08-10T20:46:04.379942",
     "status": "completed"
    },
    "tags": []
   },
   "outputs": [
    {
     "data": {
      "application/javascript": [
       "parent.postMessage({\"jupyterEvent\": \"custom.exercise_interaction\", \"data\": {\"outcomeType\": 1, \"valueTowardsCompletion\": 0.16666666666666666, \"interactionType\": 1, \"questionType\": 2, \"questionId\": \"3_CandySmashingFunctionProblem\", \"learnToolsVersion\": \"0.3.4\", \"failureMessage\": \"\", \"exceptionClass\": \"\", \"trace\": \"\"}}, \"*\")"
      ],
      "text/plain": [
       "<IPython.core.display.Javascript object>"
      ]
     },
     "metadata": {},
     "output_type": "display_data"
    },
    {
     "data": {
      "text/markdown": [
       "<span style=\"color:#33cc33\">Correct</span>"
      ],
      "text/plain": [
       "Correct"
      ]
     },
     "metadata": {},
     "output_type": "display_data"
    }
   ],
   "source": [
    "def to_smash(total_candies, numFriends=3):\n",
    "    \"\"\"Return the number of leftover candies that must be smashed after distributing\n",
    "    the given number of candies evenly between 3 friends.\n",
    "    \n",
    "    >>> to_smash(91)\n",
    "    1\n",
    "    \"\"\"\n",
    "    return total_candies % numFriends\n",
    "\n",
    "# Check your answer\n",
    "q3.check()"
   ]
  },
  {
   "cell_type": "code",
   "execution_count": 7,
   "id": "5c933d4c",
   "metadata": {
    "execution": {
     "iopub.execute_input": "2022-08-10T20:46:04.411360Z",
     "iopub.status.busy": "2022-08-10T20:46:04.410585Z",
     "iopub.status.idle": "2022-08-10T20:46:04.415032Z",
     "shell.execute_reply": "2022-08-10T20:46:04.414166Z"
    },
    "papermill": {
     "duration": 0.013814,
     "end_time": "2022-08-10T20:46:04.417254",
     "exception": false,
     "start_time": "2022-08-10T20:46:04.403440",
     "status": "completed"
    },
    "tags": []
   },
   "outputs": [],
   "source": [
    "#q3.hint()"
   ]
  },
  {
   "cell_type": "code",
   "execution_count": 8,
   "id": "336ff682",
   "metadata": {
    "execution": {
     "iopub.execute_input": "2022-08-10T20:46:04.431569Z",
     "iopub.status.busy": "2022-08-10T20:46:04.430457Z",
     "iopub.status.idle": "2022-08-10T20:46:04.435115Z",
     "shell.execute_reply": "2022-08-10T20:46:04.434180Z"
    },
    "papermill": {
     "duration": 0.014259,
     "end_time": "2022-08-10T20:46:04.437558",
     "exception": false,
     "start_time": "2022-08-10T20:46:04.423299",
     "status": "completed"
    },
    "tags": []
   },
   "outputs": [],
   "source": [
    "#q3.solution()"
   ]
  },
  {
   "cell_type": "markdown",
   "id": "7d083762",
   "metadata": {
    "papermill": {
     "duration": 0.005728,
     "end_time": "2022-08-10T20:46:04.449479",
     "exception": false,
     "start_time": "2022-08-10T20:46:04.443751",
     "status": "completed"
    },
    "tags": []
   },
   "source": [
    "# 4. (Optional)\n",
    "\n",
    "It may not be fun, but reading and understanding error messages will be an important part of your Python career.\n",
    "\n",
    "Each code cell below contains some commented buggy code. For each cell...\n",
    "\n",
    "1. Read the code and predict what you think will happen when it's run.\n",
    "2. Then uncomment the code and run it to see what happens. (**Tip**: In the kernel editor, you can highlight several lines and press `ctrl`+`/` to toggle commenting.)\n",
    "3. Fix the code (so that it accomplishes its intended purpose without throwing an exception)\n",
    "\n",
    "<!-- TODO: should this be autochecked? Delta is probably pretty small. -->"
   ]
  },
  {
   "cell_type": "code",
   "execution_count": 9,
   "id": "fb4b286d",
   "metadata": {
    "execution": {
     "iopub.execute_input": "2022-08-10T20:46:04.463924Z",
     "iopub.status.busy": "2022-08-10T20:46:04.463166Z",
     "iopub.status.idle": "2022-08-10T20:46:04.469263Z",
     "shell.execute_reply": "2022-08-10T20:46:04.467718Z"
    },
    "papermill": {
     "duration": 0.016789,
     "end_time": "2022-08-10T20:46:04.472375",
     "exception": false,
     "start_time": "2022-08-10T20:46:04.455586",
     "status": "completed"
    },
    "tags": []
   },
   "outputs": [
    {
     "name": "stdout",
     "output_type": "stream",
     "text": [
      "10.0\n"
     ]
    }
   ],
   "source": [
    "def round_to_two_places(num):\n",
    "    return round (num, 2)\n",
    "\n",
    "print(round_to_two_places(9.9999))"
   ]
  },
  {
   "cell_type": "code",
   "execution_count": 10,
   "id": "50ad9651",
   "metadata": {
    "execution": {
     "iopub.execute_input": "2022-08-10T20:46:04.487221Z",
     "iopub.status.busy": "2022-08-10T20:46:04.486164Z",
     "iopub.status.idle": "2022-08-10T20:46:04.495489Z",
     "shell.execute_reply": "2022-08-10T20:46:04.494040Z"
    },
    "papermill": {
     "duration": 0.019867,
     "end_time": "2022-08-10T20:46:04.498572",
     "exception": false,
     "start_time": "2022-08-10T20:46:04.478705",
     "status": "completed"
    },
    "tags": []
   },
   "outputs": [
    {
     "name": "stdout",
     "output_type": "stream",
     "text": [
      "5\n"
     ]
    }
   ],
   "source": [
    "\n",
    "x = -10\n",
    "y = 5\n",
    "# Which of the two variables above has the smallest absolute value?\n",
    "def smallest_abs (x,y): \n",
    "    return min(abs(x),abs(y))\n",
    "print (smallest_abs (x,y))\n"
   ]
  },
  {
   "cell_type": "code",
   "execution_count": 11,
   "id": "4d05a71c",
   "metadata": {
    "execution": {
     "iopub.execute_input": "2022-08-10T20:46:04.513960Z",
     "iopub.status.busy": "2022-08-10T20:46:04.513057Z",
     "iopub.status.idle": "2022-08-10T20:46:04.520717Z",
     "shell.execute_reply": "2022-08-10T20:46:04.519424Z"
    },
    "papermill": {
     "duration": 0.017536,
     "end_time": "2022-08-10T20:46:04.523246",
     "exception": false,
     "start_time": "2022-08-10T20:46:04.505710",
     "status": "completed"
    },
    "tags": []
   },
   "outputs": [
    {
     "name": "stdout",
     "output_type": "stream",
     "text": [
      "5\n"
     ]
    }
   ],
   "source": [
    "def f(x):\n",
    "    y = abs(x)\n",
    "    return y\n",
    "\n",
    "print(f(-5))"
   ]
  },
  {
   "cell_type": "markdown",
   "id": "1ebd255e",
   "metadata": {
    "papermill": {
     "duration": 0.005924,
     "end_time": "2022-08-10T20:46:04.535372",
     "exception": false,
     "start_time": "2022-08-10T20:46:04.529448",
     "status": "completed"
    },
    "tags": []
   },
   "source": [
    "# Keep Going\n",
    "\n",
    "Nice job with the code. Next up, you'll learn about *conditionals*, which you'll need to **[write interesting programs](https://www.kaggle.com/colinmorris/booleans-and-conditionals)**. "
   ]
  },
  {
   "cell_type": "markdown",
   "id": "848a3e36",
   "metadata": {
    "papermill": {
     "duration": 0.005785,
     "end_time": "2022-08-10T20:46:04.547364",
     "exception": false,
     "start_time": "2022-08-10T20:46:04.541579",
     "status": "completed"
    },
    "tags": []
   },
   "source": [
    "---\n",
    "\n",
    "\n",
    "\n",
    "\n",
    "*Have questions or comments? Visit the [course discussion forum](https://www.kaggle.com/learn/python/discussion) to chat with other learners.*"
   ]
  }
 ],
 "metadata": {
  "kernelspec": {
   "display_name": "Python 3",
   "language": "python",
   "name": "python3"
  },
  "language_info": {
   "codemirror_mode": {
    "name": "ipython",
    "version": 3
   },
   "file_extension": ".py",
   "mimetype": "text/x-python",
   "name": "python",
   "nbconvert_exporter": "python",
   "pygments_lexer": "ipython3",
   "version": "3.7.12"
  },
  "papermill": {
   "default_parameters": {},
   "duration": 10.691466,
   "end_time": "2022-08-10T20:46:05.275438",
   "environment_variables": {},
   "exception": null,
   "input_path": "__notebook__.ipynb",
   "output_path": "__notebook__.ipynb",
   "parameters": {},
   "start_time": "2022-08-10T20:45:54.583972",
   "version": "2.3.4"
  }
 },
 "nbformat": 4,
 "nbformat_minor": 5
}
