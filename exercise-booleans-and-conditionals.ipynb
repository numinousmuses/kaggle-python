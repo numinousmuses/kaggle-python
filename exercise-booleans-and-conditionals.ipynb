{
 "cells": [
  {
   "cell_type": "markdown",
   "id": "8639a7b6",
   "metadata": {
    "papermill": {
     "duration": 0.010794,
     "end_time": "2022-08-10T20:58:18.500944",
     "exception": false,
     "start_time": "2022-08-10T20:58:18.490150",
     "status": "completed"
    },
    "tags": []
   },
   "source": [
    "**This notebook is an exercise in the [Python](https://www.kaggle.com/learn/python) course.  You can reference the tutorial at [this link](https://www.kaggle.com/colinmorris/booleans-and-conditionals).**\n",
    "\n",
    "---\n"
   ]
  },
  {
   "cell_type": "markdown",
   "id": "8d430ef9",
   "metadata": {
    "papermill": {
     "duration": 0.008815,
     "end_time": "2022-08-10T20:58:18.519228",
     "exception": false,
     "start_time": "2022-08-10T20:58:18.510413",
     "status": "completed"
    },
    "tags": []
   },
   "source": [
    "In this exercise, you'll put to work what you have learned about booleans and conditionals.\n",
    "\n",
    "To get started, **run the setup code below** before writing your own code (and if you leave this notebook and come back later, don't forget to run the setup code again)."
   ]
  },
  {
   "cell_type": "code",
   "execution_count": 1,
   "id": "7634b7e3",
   "metadata": {
    "execution": {
     "iopub.execute_input": "2022-08-10T20:58:18.540492Z",
     "iopub.status.busy": "2022-08-10T20:58:18.539252Z",
     "iopub.status.idle": "2022-08-10T20:58:18.600275Z",
     "shell.execute_reply": "2022-08-10T20:58:18.598435Z"
    },
    "papermill": {
     "duration": 0.075644,
     "end_time": "2022-08-10T20:58:18.604081",
     "exception": false,
     "start_time": "2022-08-10T20:58:18.528437",
     "status": "completed"
    },
    "tags": []
   },
   "outputs": [
    {
     "name": "stdout",
     "output_type": "stream",
     "text": [
      "Setup complete.\n"
     ]
    }
   ],
   "source": [
    "from learntools.core import binder; binder.bind(globals())\n",
    "from learntools.python.ex3 import *\n",
    "print('Setup complete.')"
   ]
  },
  {
   "cell_type": "markdown",
   "id": "fddffbf4",
   "metadata": {
    "papermill": {
     "duration": 0.00871,
     "end_time": "2022-08-10T20:58:18.623030",
     "exception": false,
     "start_time": "2022-08-10T20:58:18.614320",
     "status": "completed"
    },
    "tags": []
   },
   "source": [
    "# 1.\n",
    "\n",
    "Many programming languages have [`sign`](https://en.wikipedia.org/wiki/Sign_function) available as a built-in function. Python doesn't, but we can define our own!\n",
    "\n",
    "In the cell below, define a function called `sign` which takes a numerical argument and returns -1 if it's negative, 1 if it's positive, and 0 if it's 0."
   ]
  },
  {
   "cell_type": "code",
   "execution_count": 2,
   "id": "24fb2d68",
   "metadata": {
    "execution": {
     "iopub.execute_input": "2022-08-10T20:58:18.643436Z",
     "iopub.status.busy": "2022-08-10T20:58:18.642616Z",
     "iopub.status.idle": "2022-08-10T20:58:18.654722Z",
     "shell.execute_reply": "2022-08-10T20:58:18.653538Z"
    },
    "papermill": {
     "duration": 0.024925,
     "end_time": "2022-08-10T20:58:18.656826",
     "exception": false,
     "start_time": "2022-08-10T20:58:18.631901",
     "status": "completed"
    },
    "tags": []
   },
   "outputs": [
    {
     "data": {
      "application/javascript": [
       "parent.postMessage({\"jupyterEvent\": \"custom.exercise_interaction\", \"data\": {\"outcomeType\": 1, \"valueTowardsCompletion\": 0.2, \"interactionType\": 1, \"questionType\": 2, \"questionId\": \"1_SignFunctionProblem\", \"learnToolsVersion\": \"0.3.4\", \"failureMessage\": \"\", \"exceptionClass\": \"\", \"trace\": \"\"}}, \"*\")"
      ],
      "text/plain": [
       "<IPython.core.display.Javascript object>"
      ]
     },
     "metadata": {},
     "output_type": "display_data"
    },
    {
     "data": {
      "text/markdown": [
       "<span style=\"color:#33cc33\">Correct</span>"
      ],
      "text/plain": [
       "Correct"
      ]
     },
     "metadata": {},
     "output_type": "display_data"
    }
   ],
   "source": [
    "# Your code goes here. Define a function called 'sign'\n",
    "def sign(x):\n",
    "    \"\"\"Takes a numerical argument and return -1 if it's negative, 1 if it's positive, and 0 if it's 0\n",
    "    >>>sign(0)\n",
    "    0\n",
    "    \"\"\"\n",
    "    if x>0:\n",
    "        return(1)\n",
    "    elif x==0:\n",
    "        return(0)\n",
    "    elif x < 0:\n",
    "        return(-1)\n",
    "# Check your answer\n",
    "q1.check()"
   ]
  },
  {
   "cell_type": "code",
   "execution_count": 3,
   "id": "134188c6",
   "metadata": {
    "execution": {
     "iopub.execute_input": "2022-08-10T20:58:18.677963Z",
     "iopub.status.busy": "2022-08-10T20:58:18.677107Z",
     "iopub.status.idle": "2022-08-10T20:58:18.682811Z",
     "shell.execute_reply": "2022-08-10T20:58:18.681819Z"
    },
    "papermill": {
     "duration": 0.019008,
     "end_time": "2022-08-10T20:58:18.685079",
     "exception": false,
     "start_time": "2022-08-10T20:58:18.666071",
     "status": "completed"
    },
    "tags": []
   },
   "outputs": [],
   "source": [
    "#q1.solution()"
   ]
  },
  {
   "cell_type": "markdown",
   "id": "9850f380",
   "metadata": {
    "papermill": {
     "duration": 0.008952,
     "end_time": "2022-08-10T20:58:18.704798",
     "exception": false,
     "start_time": "2022-08-10T20:58:18.695846",
     "status": "completed"
    },
    "tags": []
   },
   "source": [
    "# 2.\n",
    "\n",
    "We've decided to add \"logging\" to our `to_smash` function from the previous exercise."
   ]
  },
  {
   "cell_type": "code",
   "execution_count": 4,
   "id": "b750851e",
   "metadata": {
    "execution": {
     "iopub.execute_input": "2022-08-10T20:58:18.725711Z",
     "iopub.status.busy": "2022-08-10T20:58:18.724917Z",
     "iopub.status.idle": "2022-08-10T20:58:18.732479Z",
     "shell.execute_reply": "2022-08-10T20:58:18.731704Z"
    },
    "papermill": {
     "duration": 0.020379,
     "end_time": "2022-08-10T20:58:18.734443",
     "exception": false,
     "start_time": "2022-08-10T20:58:18.714064",
     "status": "completed"
    },
    "tags": []
   },
   "outputs": [
    {
     "name": "stdout",
     "output_type": "stream",
     "text": [
      "Splitting 91 candies\n"
     ]
    },
    {
     "data": {
      "text/plain": [
       "1"
      ]
     },
     "execution_count": 4,
     "metadata": {},
     "output_type": "execute_result"
    }
   ],
   "source": [
    "def to_smash(total_candies):\n",
    "    \"\"\"Return the number of leftover candies that must be smashed after distributing\n",
    "    the given number of candies evenly between 3 friends.\n",
    "    \n",
    "    >>> to_smash(91)\n",
    "    1\n",
    "    \"\"\"\n",
    "    print(\"Splitting\", total_candies, \"candies\")\n",
    "    return total_candies % 3\n",
    "\n",
    "to_smash(91)"
   ]
  },
  {
   "cell_type": "markdown",
   "id": "023fbf44",
   "metadata": {
    "papermill": {
     "duration": 0.009341,
     "end_time": "2022-08-10T20:58:18.753744",
     "exception": false,
     "start_time": "2022-08-10T20:58:18.744403",
     "status": "completed"
    },
    "tags": []
   },
   "source": [
    "What happens if we call it with `total_candies = 1`?"
   ]
  },
  {
   "cell_type": "code",
   "execution_count": 5,
   "id": "25510d94",
   "metadata": {
    "execution": {
     "iopub.execute_input": "2022-08-10T20:58:18.775215Z",
     "iopub.status.busy": "2022-08-10T20:58:18.774364Z",
     "iopub.status.idle": "2022-08-10T20:58:18.782326Z",
     "shell.execute_reply": "2022-08-10T20:58:18.781069Z"
    },
    "papermill": {
     "duration": 0.021385,
     "end_time": "2022-08-10T20:58:18.784595",
     "exception": false,
     "start_time": "2022-08-10T20:58:18.763210",
     "status": "completed"
    },
    "tags": []
   },
   "outputs": [
    {
     "name": "stdout",
     "output_type": "stream",
     "text": [
      "Splitting 1 candies\n"
     ]
    },
    {
     "data": {
      "text/plain": [
       "1"
      ]
     },
     "execution_count": 5,
     "metadata": {},
     "output_type": "execute_result"
    }
   ],
   "source": [
    "to_smash(1)"
   ]
  },
  {
   "cell_type": "markdown",
   "id": "4869840b",
   "metadata": {
    "papermill": {
     "duration": 0.00968,
     "end_time": "2022-08-10T20:58:18.804269",
     "exception": false,
     "start_time": "2022-08-10T20:58:18.794589",
     "status": "completed"
    },
    "tags": []
   },
   "source": [
    "That isn't great grammar!\n",
    "\n",
    "Modify the definition in the cell below to correct the grammar of our print statement. (If there's only one candy, we should use the singular \"candy\" instead of the plural \"candies\")"
   ]
  },
  {
   "cell_type": "code",
   "execution_count": 6,
   "id": "599c7618",
   "metadata": {
    "execution": {
     "iopub.execute_input": "2022-08-10T20:58:18.826477Z",
     "iopub.status.busy": "2022-08-10T20:58:18.826019Z",
     "iopub.status.idle": "2022-08-10T20:58:18.835406Z",
     "shell.execute_reply": "2022-08-10T20:58:18.834006Z"
    },
    "papermill": {
     "duration": 0.024121,
     "end_time": "2022-08-10T20:58:18.838284",
     "exception": false,
     "start_time": "2022-08-10T20:58:18.814163",
     "status": "completed"
    },
    "tags": []
   },
   "outputs": [
    {
     "name": "stdout",
     "output_type": "stream",
     "text": [
      "Splitting 91 candies\n",
      "Splitting 1 candy\n"
     ]
    },
    {
     "data": {
      "text/plain": [
       "1"
      ]
     },
     "execution_count": 6,
     "metadata": {},
     "output_type": "execute_result"
    }
   ],
   "source": [
    "def to_smash(total_candies):\n",
    "    \"\"\"Return the number of leftover candies that must be smashed after distributing\n",
    "    the given number of candies evenly between 3 friends.\n",
    "    \n",
    "    >>> to_smash(91)\n",
    "    1\n",
    "    \"\"\"\n",
    "    if total_candies == 1:\n",
    "        print(\"Splitting\", total_candies, \"candy\")\n",
    "        return total_candies % 3\n",
    "    else:\n",
    "        print(\"Splitting\", total_candies, \"candies\")\n",
    "        return total_candies % 3\n",
    "\n",
    "to_smash(91)\n",
    "to_smash(1)"
   ]
  },
  {
   "cell_type": "markdown",
   "id": "adbaa637",
   "metadata": {
    "papermill": {
     "duration": 0.009556,
     "end_time": "2022-08-10T20:58:18.858240",
     "exception": false,
     "start_time": "2022-08-10T20:58:18.848684",
     "status": "completed"
    },
    "tags": []
   },
   "source": [
    "To get credit for completing this problem, and to see the official answer, run the code cell below."
   ]
  },
  {
   "cell_type": "code",
   "execution_count": 7,
   "id": "7304e104",
   "metadata": {
    "execution": {
     "iopub.execute_input": "2022-08-10T20:58:18.880327Z",
     "iopub.status.busy": "2022-08-10T20:58:18.879863Z",
     "iopub.status.idle": "2022-08-10T20:58:18.889018Z",
     "shell.execute_reply": "2022-08-10T20:58:18.887704Z"
    },
    "papermill": {
     "duration": 0.023159,
     "end_time": "2022-08-10T20:58:18.891318",
     "exception": false,
     "start_time": "2022-08-10T20:58:18.868159",
     "status": "completed"
    },
    "tags": []
   },
   "outputs": [
    {
     "data": {
      "application/javascript": [
       "parent.postMessage({\"jupyterEvent\": \"custom.exercise_interaction\", \"data\": {\"interactionType\": 3, \"questionType\": 4, \"questionId\": \"2_PluralizationProblem\", \"learnToolsVersion\": \"0.3.4\", \"valueTowardsCompletion\": 0.0, \"failureMessage\": \"\", \"exceptionClass\": \"\", \"trace\": \"\", \"outcomeType\": 4}}, \"*\")"
      ],
      "text/plain": [
       "<IPython.core.display.Javascript object>"
      ]
     },
     "metadata": {},
     "output_type": "display_data"
    },
    {
     "data": {
      "text/markdown": [
       "<span style=\"color:#33cc99\">Solution:</span> A straightforward (and totally fine) solution is to replace the original `print` call with:\n",
       "\n",
       "```python\n",
       "if total_candies == 1:\n",
       "    print(\"Splitting 1 candy\")\n",
       "else:\n",
       "    print(\"Splitting\", total_candies, \"candies\")\n",
       "```\n",
       "\n",
       "Here's a slightly more succinct solution using a conditional expression:\n",
       "\n",
       "```python\n",
       "print(\"Splitting\", total_candies, \"candy\" if total_candies == 1 else \"candies\")\n",
       "```"
      ],
      "text/plain": [
       "Solution: A straightforward (and totally fine) solution is to replace the original `print` call with:\n",
       "\n",
       "```python\n",
       "if total_candies == 1:\n",
       "    print(\"Splitting 1 candy\")\n",
       "else:\n",
       "    print(\"Splitting\", total_candies, \"candies\")\n",
       "```\n",
       "\n",
       "Here's a slightly more succinct solution using a conditional expression:\n",
       "\n",
       "```python\n",
       "print(\"Splitting\", total_candies, \"candy\" if total_candies == 1 else \"candies\")\n",
       "```"
      ]
     },
     "metadata": {},
     "output_type": "display_data"
    }
   ],
   "source": [
    "# Check your answer (Run this code cell to receive credit!)\n",
    "q2.solution()"
   ]
  },
  {
   "cell_type": "markdown",
   "id": "1252daf6",
   "metadata": {
    "papermill": {
     "duration": 0.010963,
     "end_time": "2022-08-10T20:58:18.912765",
     "exception": false,
     "start_time": "2022-08-10T20:58:18.901802",
     "status": "completed"
    },
    "tags": []
   },
   "source": [
    "# 3. <span title=\"A bit spicy\" style=\"color: darkgreen \">🌶️</span>\n",
    "\n",
    "In the tutorial, we talked about deciding whether we're prepared for the weather. I said that I'm safe from today's weather if...\n",
    "- I have an umbrella...\n",
    "- or if the rain isn't too heavy and I have a hood...\n",
    "- otherwise, I'm still fine unless it's raining *and* it's a workday\n",
    "\n",
    "The function below uses our first attempt at turning this logic into a Python expression. I claimed that there was a bug in that code. Can you find it?\n",
    "\n",
    "To prove that `prepared_for_weather` is buggy, come up with a set of inputs where either:\n",
    "- the function returns `False` (but should have returned `True`), or\n",
    "- the function returned `True` (but should have returned `False`).\n",
    "\n",
    "To get credit for completing this question, your code should return a <font color='#33cc33'>Correct</font> result."
   ]
  },
  {
   "cell_type": "code",
   "execution_count": 8,
   "id": "18977191",
   "metadata": {
    "execution": {
     "iopub.execute_input": "2022-08-10T20:58:18.936782Z",
     "iopub.status.busy": "2022-08-10T20:58:18.935881Z",
     "iopub.status.idle": "2022-08-10T20:58:18.948694Z",
     "shell.execute_reply": "2022-08-10T20:58:18.947331Z"
    },
    "papermill": {
     "duration": 0.027437,
     "end_time": "2022-08-10T20:58:18.950978",
     "exception": false,
     "start_time": "2022-08-10T20:58:18.923541",
     "status": "completed"
    },
    "tags": []
   },
   "outputs": [
    {
     "name": "stdout",
     "output_type": "stream",
     "text": [
      "True\n"
     ]
    },
    {
     "data": {
      "application/javascript": [
       "parent.postMessage({\"jupyterEvent\": \"custom.exercise_interaction\", \"data\": {\"outcomeType\": 2, \"failureMessage\": \"Given `have_umbrella=False`, `rain_level=0`, `have_hood=False`, `is_workday=True`, `prepared_for_weather` returned `True`. But I think that's correct. (We want inputs that lead to an incorrect result from `prepared_for_weather`.)\", \"interactionType\": 1, \"questionType\": 1, \"questionId\": \"3_WeatherDebug\", \"learnToolsVersion\": \"0.3.4\", \"valueTowardsCompletion\": 0.0, \"exceptionClass\": \"\", \"trace\": \"\"}}, \"*\")"
      ],
      "text/plain": [
       "<IPython.core.display.Javascript object>"
      ]
     },
     "metadata": {},
     "output_type": "display_data"
    },
    {
     "data": {
      "text/markdown": [
       "<span style=\"color:#cc3333\">Incorrect:</span> Given `have_umbrella=False`, `rain_level=0`, `have_hood=False`, `is_workday=True`, `prepared_for_weather` returned `True`. But I think that's correct. (We want inputs that lead to an incorrect result from `prepared_for_weather`.)"
      ],
      "text/plain": [
       "Incorrect: Given `have_umbrella=False`, `rain_level=0`, `have_hood=False`, `is_workday=True`, `prepared_for_weather` returned `True`. But I think that's correct. (We want inputs that lead to an incorrect result from `prepared_for_weather`.)"
      ]
     },
     "metadata": {},
     "output_type": "display_data"
    }
   ],
   "source": [
    "def prepared_for_weather(have_umbrella, rain_level, have_hood, is_workday):\n",
    "    # Don't change this code. Our goal is just to find the bug, not fix it!\n",
    "    return have_umbrella or rain_level < 5 and have_hood or not rain_level > 0 and is_workday\n",
    "\n",
    "# Change the values of these inputs so they represent a case where prepared_for_weather\n",
    "# returns the wrong answer.\n",
    "have_umbrella = False\n",
    "rain_level = 0\n",
    "have_hood = False\n",
    "is_workday = True\n",
    "\n",
    "# Check what the function returns given the current values of the variables above\n",
    "actual = prepared_for_weather(have_umbrella, rain_level, have_hood, is_workday)\n",
    "print(actual)\n",
    "\n",
    "# Check your answer\n",
    "q3.check()"
   ]
  },
  {
   "cell_type": "code",
   "execution_count": 9,
   "id": "3b3e0af5",
   "metadata": {
    "execution": {
     "iopub.execute_input": "2022-08-10T20:58:18.974770Z",
     "iopub.status.busy": "2022-08-10T20:58:18.973964Z",
     "iopub.status.idle": "2022-08-10T20:58:18.984498Z",
     "shell.execute_reply": "2022-08-10T20:58:18.983739Z"
    },
    "papermill": {
     "duration": 0.024804,
     "end_time": "2022-08-10T20:58:18.986460",
     "exception": false,
     "start_time": "2022-08-10T20:58:18.961656",
     "status": "completed"
    },
    "tags": []
   },
   "outputs": [
    {
     "data": {
      "application/javascript": [
       "parent.postMessage({\"jupyterEvent\": \"custom.exercise_interaction\", \"data\": {\"interactionType\": 2, \"questionType\": 1, \"questionId\": \"3_WeatherDebug\", \"learnToolsVersion\": \"0.3.4\", \"valueTowardsCompletion\": 0.0, \"failureMessage\": \"\", \"exceptionClass\": \"\", \"trace\": \"\", \"outcomeType\": 4}}, \"*\")"
      ],
      "text/plain": [
       "<IPython.core.display.Javascript object>"
      ]
     },
     "metadata": {},
     "output_type": "display_data"
    },
    {
     "data": {
      "text/markdown": [
       "<span style=\"color:#3366cc\">Hint:</span> Take a look at how we fixed our original expression in the main lesson. We added parentheses around certain subexpressions. The bug in this code is caused by Python evaluating certain operations in the \"wrong\" order."
      ],
      "text/plain": [
       "Hint: Take a look at how we fixed our original expression in the main lesson. We added parentheses around certain subexpressions. The bug in this code is caused by Python evaluating certain operations in the \"wrong\" order."
      ]
     },
     "metadata": {},
     "output_type": "display_data"
    },
    {
     "data": {
      "application/javascript": [
       "parent.postMessage({\"jupyterEvent\": \"custom.exercise_interaction\", \"data\": {\"interactionType\": 3, \"questionType\": 1, \"questionId\": \"3_WeatherDebug\", \"learnToolsVersion\": \"0.3.4\", \"valueTowardsCompletion\": 0.0, \"failureMessage\": \"\", \"exceptionClass\": \"\", \"trace\": \"\", \"outcomeType\": 4}}, \"*\")"
      ],
      "text/plain": [
       "<IPython.core.display.Javascript object>"
      ]
     },
     "metadata": {},
     "output_type": "display_data"
    },
    {
     "data": {
      "text/markdown": [
       "<span style=\"color:#33cc99\">Solution:</span> One example of a failing test case is:\n",
       "\n",
       "```python\n",
       "have_umbrella = False\n",
       "rain_level = 0.0\n",
       "have_hood = False\n",
       "is_workday = False\n",
       "```\n",
       "\n",
       "Clearly we're prepared for the weather in this case. It's not raining. Not only that, it's not a workday, so we don't even need to leave the house! But our function will return False on these inputs.\n",
       "\n",
       "The key problem is that Python implictly parenthesizes the last part as:\n",
       "\n",
       "```python\n",
       "(not (rain_level > 0)) and is_workday\n",
       "```\n",
       "\n",
       "Whereas what we were trying to express would look more like:\n",
       "\n",
       "```python\n",
       "not (rain_level > 0 and is_workday)\n",
       "```\n"
      ],
      "text/plain": [
       "Solution: One example of a failing test case is:\n",
       "\n",
       "```python\n",
       "have_umbrella = False\n",
       "rain_level = 0.0\n",
       "have_hood = False\n",
       "is_workday = False\n",
       "```\n",
       "\n",
       "Clearly we're prepared for the weather in this case. It's not raining. Not only that, it's not a workday, so we don't even need to leave the house! But our function will return False on these inputs.\n",
       "\n",
       "The key problem is that Python implictly parenthesizes the last part as:\n",
       "\n",
       "```python\n",
       "(not (rain_level > 0)) and is_workday\n",
       "```\n",
       "\n",
       "Whereas what we were trying to express would look more like:\n",
       "\n",
       "```python\n",
       "not (rain_level > 0 and is_workday)\n",
       "```"
      ]
     },
     "metadata": {},
     "output_type": "display_data"
    }
   ],
   "source": [
    "q3.hint()\n",
    "q3.solution()"
   ]
  },
  {
   "cell_type": "markdown",
   "id": "08ee055b",
   "metadata": {
    "papermill": {
     "duration": 0.010558,
     "end_time": "2022-08-10T20:58:19.008289",
     "exception": false,
     "start_time": "2022-08-10T20:58:18.997731",
     "status": "completed"
    },
    "tags": []
   },
   "source": [
    "# 4.\n",
    "\n",
    "The function `is_negative` below is implemented correctly - it returns True if the given number is negative and False otherwise.\n",
    "\n",
    "However, it's more verbose than it needs to be. We can actually reduce the number of lines of code in this function by *75%* while keeping the same behaviour. \n",
    "\n",
    "See if you can come up with an equivalent body that uses just **one line** of code, and put it in the function `concise_is_negative`. (HINT: you don't even need Python's ternary syntax)"
   ]
  },
  {
   "cell_type": "code",
   "execution_count": 10,
   "id": "90f60cda",
   "metadata": {
    "execution": {
     "iopub.execute_input": "2022-08-10T20:58:19.032677Z",
     "iopub.status.busy": "2022-08-10T20:58:19.031861Z",
     "iopub.status.idle": "2022-08-10T20:58:19.043683Z",
     "shell.execute_reply": "2022-08-10T20:58:19.042285Z"
    },
    "papermill": {
     "duration": 0.026677,
     "end_time": "2022-08-10T20:58:19.045917",
     "exception": false,
     "start_time": "2022-08-10T20:58:19.019240",
     "status": "completed"
    },
    "tags": []
   },
   "outputs": [
    {
     "name": "stdout",
     "output_type": "stream",
     "text": [
      "False\n"
     ]
    },
    {
     "data": {
      "application/javascript": [
       "parent.postMessage({\"jupyterEvent\": \"custom.exercise_interaction\", \"data\": {\"outcomeType\": 1, \"valueTowardsCompletion\": 0.2, \"interactionType\": 1, \"questionType\": 2, \"questionId\": \"4_ConciseIsNegative\", \"learnToolsVersion\": \"0.3.4\", \"failureMessage\": \"\", \"exceptionClass\": \"\", \"trace\": \"\"}}, \"*\")"
      ],
      "text/plain": [
       "<IPython.core.display.Javascript object>"
      ]
     },
     "metadata": {},
     "output_type": "display_data"
    },
    {
     "data": {
      "text/markdown": [
       "<span style=\"color:#33cc33\">Correct</span>"
      ],
      "text/plain": [
       "Correct"
      ]
     },
     "metadata": {},
     "output_type": "display_data"
    }
   ],
   "source": [
    "def is_negative(number):\n",
    "    if number < 0:\n",
    "        return True\n",
    "    else:\n",
    "        return False\n",
    "\n",
    "def concise_is_negative(number):\n",
    "    return number<0\n",
    "\n",
    "print(concise_is_negative(5))\n",
    "# Check your answer\n",
    "q4.check()"
   ]
  },
  {
   "cell_type": "code",
   "execution_count": 11,
   "id": "963df9e3",
   "metadata": {
    "execution": {
     "iopub.execute_input": "2022-08-10T20:58:19.071592Z",
     "iopub.status.busy": "2022-08-10T20:58:19.070466Z",
     "iopub.status.idle": "2022-08-10T20:58:19.075331Z",
     "shell.execute_reply": "2022-08-10T20:58:19.074033Z"
    },
    "papermill": {
     "duration": 0.020392,
     "end_time": "2022-08-10T20:58:19.077826",
     "exception": false,
     "start_time": "2022-08-10T20:58:19.057434",
     "status": "completed"
    },
    "tags": []
   },
   "outputs": [],
   "source": [
    "#q4.hint()\n",
    "#q4.solution()"
   ]
  },
  {
   "cell_type": "markdown",
   "id": "03bd5816",
   "metadata": {
    "papermill": {
     "duration": 0.011287,
     "end_time": "2022-08-10T20:58:19.100938",
     "exception": false,
     "start_time": "2022-08-10T20:58:19.089651",
     "status": "completed"
    },
    "tags": []
   },
   "source": [
    "# 5a.\n",
    "\n",
    "The boolean variables `ketchup`, `mustard` and `onion` represent whether a customer wants a particular topping on their hot dog. We want to implement a number of boolean functions that correspond to some yes-or-no questions about the customer's order. For example:"
   ]
  },
  {
   "cell_type": "code",
   "execution_count": 12,
   "id": "63a86a61",
   "metadata": {
    "execution": {
     "iopub.execute_input": "2022-08-10T20:58:19.127475Z",
     "iopub.status.busy": "2022-08-10T20:58:19.126179Z",
     "iopub.status.idle": "2022-08-10T20:58:19.131524Z",
     "shell.execute_reply": "2022-08-10T20:58:19.130645Z"
    },
    "papermill": {
     "duration": 0.021252,
     "end_time": "2022-08-10T20:58:19.133691",
     "exception": false,
     "start_time": "2022-08-10T20:58:19.112439",
     "status": "completed"
    },
    "tags": []
   },
   "outputs": [],
   "source": [
    "def onionless(ketchup, mustard, onion):\n",
    "    \"\"\"Return whether the customer doesn't want onions.\n",
    "    \"\"\"\n",
    "    return not onion"
   ]
  },
  {
   "cell_type": "code",
   "execution_count": 13,
   "id": "2c266a5e",
   "metadata": {
    "execution": {
     "iopub.execute_input": "2022-08-10T20:58:19.159014Z",
     "iopub.status.busy": "2022-08-10T20:58:19.157853Z",
     "iopub.status.idle": "2022-08-10T20:58:19.166413Z",
     "shell.execute_reply": "2022-08-10T20:58:19.165612Z"
    },
    "papermill": {
     "duration": 0.023266,
     "end_time": "2022-08-10T20:58:19.168321",
     "exception": false,
     "start_time": "2022-08-10T20:58:19.145055",
     "status": "completed"
    },
    "tags": []
   },
   "outputs": [
    {
     "data": {
      "application/javascript": [
       "parent.postMessage({\"jupyterEvent\": \"custom.exercise_interaction\", \"data\": {\"outcomeType\": 1, \"valueTowardsCompletion\": 0.2, \"interactionType\": 1, \"questionType\": 2, \"questionId\": \"5.1_AllToppings\", \"learnToolsVersion\": \"0.3.4\", \"failureMessage\": \"\", \"exceptionClass\": \"\", \"trace\": \"\"}}, \"*\")"
      ],
      "text/plain": [
       "<IPython.core.display.Javascript object>"
      ]
     },
     "metadata": {},
     "output_type": "display_data"
    },
    {
     "data": {
      "text/markdown": [
       "<span style=\"color:#33cc33\">Correct</span>"
      ],
      "text/plain": [
       "Correct"
      ]
     },
     "metadata": {},
     "output_type": "display_data"
    }
   ],
   "source": [
    "def wants_all_toppings(ketchup, mustard, onion):\n",
    "    \"\"\"Return whether the customer wants \"the works\" (all 3 toppings)\n",
    "    \"\"\"\n",
    "    return ketchup and mustard and onion\n",
    "\n",
    "# Check your answer\n",
    "q5.a.check()"
   ]
  },
  {
   "cell_type": "code",
   "execution_count": 14,
   "id": "7b5a09be",
   "metadata": {
    "execution": {
     "iopub.execute_input": "2022-08-10T20:58:19.193138Z",
     "iopub.status.busy": "2022-08-10T20:58:19.192663Z",
     "iopub.status.idle": "2022-08-10T20:58:19.198394Z",
     "shell.execute_reply": "2022-08-10T20:58:19.196929Z"
    },
    "papermill": {
     "duration": 0.02122,
     "end_time": "2022-08-10T20:58:19.200759",
     "exception": false,
     "start_time": "2022-08-10T20:58:19.179539",
     "status": "completed"
    },
    "tags": []
   },
   "outputs": [],
   "source": [
    "#q5.a.hint()\n",
    "#q5.a.solution()"
   ]
  },
  {
   "cell_type": "markdown",
   "id": "096518d6",
   "metadata": {
    "papermill": {
     "duration": 0.010885,
     "end_time": "2022-08-10T20:58:19.222965",
     "exception": false,
     "start_time": "2022-08-10T20:58:19.212080",
     "status": "completed"
    },
    "tags": []
   },
   "source": [
    "# 5b.\n",
    "\n",
    "For the next function, fill in the body to match the English description in the docstring. "
   ]
  },
  {
   "cell_type": "code",
   "execution_count": 15,
   "id": "3bd5a89c",
   "metadata": {
    "execution": {
     "iopub.execute_input": "2022-08-10T20:58:19.247356Z",
     "iopub.status.busy": "2022-08-10T20:58:19.246972Z",
     "iopub.status.idle": "2022-08-10T20:58:19.255716Z",
     "shell.execute_reply": "2022-08-10T20:58:19.254726Z"
    },
    "papermill": {
     "duration": 0.023666,
     "end_time": "2022-08-10T20:58:19.257786",
     "exception": false,
     "start_time": "2022-08-10T20:58:19.234120",
     "status": "completed"
    },
    "tags": []
   },
   "outputs": [
    {
     "data": {
      "application/javascript": [
       "parent.postMessage({\"jupyterEvent\": \"custom.exercise_interaction\", \"data\": {\"outcomeType\": 1, \"valueTowardsCompletion\": 0.2, \"interactionType\": 1, \"questionType\": 2, \"questionId\": \"5.2_PlainDog\", \"learnToolsVersion\": \"0.3.4\", \"failureMessage\": \"\", \"exceptionClass\": \"\", \"trace\": \"\"}}, \"*\")"
      ],
      "text/plain": [
       "<IPython.core.display.Javascript object>"
      ]
     },
     "metadata": {},
     "output_type": "display_data"
    },
    {
     "data": {
      "text/markdown": [
       "<span style=\"color:#33cc33\">Correct:</span> \n",
       "\n",
       "One solution looks like:\n",
       "```python\n",
       "return not ketchup and not mustard and not onion\n",
       "```\n",
       "\n",
       "We can also [\"factor out\" the nots](https://en.wikipedia.org/wiki/De_Morgan%27s_laws) to get:\n",
       "\n",
       "```python\n",
       "return not (ketchup or mustard or onion)\n",
       "```"
      ],
      "text/plain": [
       "Correct: \n",
       "\n",
       "One solution looks like:\n",
       "```python\n",
       "return not ketchup and not mustard and not onion\n",
       "```\n",
       "\n",
       "We can also [\"factor out\" the nots](https://en.wikipedia.org/wiki/De_Morgan%27s_laws) to get:\n",
       "\n",
       "```python\n",
       "return not (ketchup or mustard or onion)\n",
       "```"
      ]
     },
     "metadata": {},
     "output_type": "display_data"
    }
   ],
   "source": [
    "def wants_plain_hotdog(ketchup, mustard, onion):\n",
    "    \"\"\"Return whether the customer wants a plain hot dog with no toppings.\n",
    "    \"\"\"\n",
    "    return not (ketchup or mustard or onion)\n",
    "\n",
    "# Check your answer\n",
    "q5.b.check()"
   ]
  },
  {
   "cell_type": "code",
   "execution_count": 16,
   "id": "899b9b29",
   "metadata": {
    "execution": {
     "iopub.execute_input": "2022-08-10T20:58:19.283459Z",
     "iopub.status.busy": "2022-08-10T20:58:19.282776Z",
     "iopub.status.idle": "2022-08-10T20:58:19.286680Z",
     "shell.execute_reply": "2022-08-10T20:58:19.285719Z"
    },
    "papermill": {
     "duration": 0.019491,
     "end_time": "2022-08-10T20:58:19.288845",
     "exception": false,
     "start_time": "2022-08-10T20:58:19.269354",
     "status": "completed"
    },
    "tags": []
   },
   "outputs": [],
   "source": [
    "#q5.b.hint()\n",
    "#q5.b.solution()"
   ]
  },
  {
   "cell_type": "markdown",
   "id": "14641af1",
   "metadata": {
    "papermill": {
     "duration": 0.011873,
     "end_time": "2022-08-10T20:58:19.312388",
     "exception": false,
     "start_time": "2022-08-10T20:58:19.300515",
     "status": "completed"
    },
    "tags": []
   },
   "source": [
    "# 5c.\n",
    "\n",
    "You know what to do: for the next function, fill in the body to match the English description in the docstring."
   ]
  },
  {
   "cell_type": "code",
   "execution_count": 17,
   "id": "3a4bd98b",
   "metadata": {
    "execution": {
     "iopub.execute_input": "2022-08-10T20:58:19.337998Z",
     "iopub.status.busy": "2022-08-10T20:58:19.337147Z",
     "iopub.status.idle": "2022-08-10T20:58:19.345576Z",
     "shell.execute_reply": "2022-08-10T20:58:19.344803Z"
    },
    "papermill": {
     "duration": 0.023598,
     "end_time": "2022-08-10T20:58:19.347512",
     "exception": false,
     "start_time": "2022-08-10T20:58:19.323914",
     "status": "completed"
    },
    "tags": []
   },
   "outputs": [
    {
     "data": {
      "application/javascript": [
       "parent.postMessage({\"jupyterEvent\": \"custom.exercise_interaction\", \"data\": {\"outcomeType\": 1, \"valueTowardsCompletion\": 0.2, \"interactionType\": 1, \"questionType\": 2, \"questionId\": \"5.3_OneSauce\", \"learnToolsVersion\": \"0.3.4\", \"failureMessage\": \"\", \"exceptionClass\": \"\", \"trace\": \"\"}}, \"*\")"
      ],
      "text/plain": [
       "<IPython.core.display.Javascript object>"
      ]
     },
     "metadata": {},
     "output_type": "display_data"
    },
    {
     "data": {
      "text/markdown": [
       "<span style=\"color:#33cc33\">Correct</span>"
      ],
      "text/plain": [
       "Correct"
      ]
     },
     "metadata": {},
     "output_type": "display_data"
    }
   ],
   "source": [
    "def exactly_one_sauce(ketchup, mustard, onion):\n",
    "    \"\"\"Return whether the customer wants either ketchup or mustard, but not both.\n",
    "    (You may be familiar with this operation under the name \"exclusive or\")\n",
    "    \"\"\"\n",
    "    return (ketchup or mustard) and (not (ketchup and mustard))\n",
    "\n",
    "# Check your answer\n",
    "q5.c.check()"
   ]
  },
  {
   "cell_type": "code",
   "execution_count": 18,
   "id": "693663b1",
   "metadata": {
    "execution": {
     "iopub.execute_input": "2022-08-10T20:58:19.373430Z",
     "iopub.status.busy": "2022-08-10T20:58:19.372667Z",
     "iopub.status.idle": "2022-08-10T20:58:19.376618Z",
     "shell.execute_reply": "2022-08-10T20:58:19.375849Z"
    },
    "papermill": {
     "duration": 0.019444,
     "end_time": "2022-08-10T20:58:19.378685",
     "exception": false,
     "start_time": "2022-08-10T20:58:19.359241",
     "status": "completed"
    },
    "tags": []
   },
   "outputs": [],
   "source": [
    "#q5.c.hint()\n",
    "#q5.c.solution()"
   ]
  },
  {
   "cell_type": "markdown",
   "id": "6be90c47",
   "metadata": {
    "papermill": {
     "duration": 0.011476,
     "end_time": "2022-08-10T20:58:19.402046",
     "exception": false,
     "start_time": "2022-08-10T20:58:19.390570",
     "status": "completed"
    },
    "tags": []
   },
   "source": [
    "# 6. <span title=\"A bit spicy\" style=\"color: darkgreen \">🌶️</span>\n",
    "\n",
    "We’ve seen that calling `bool()` on an integer returns `False` if it’s equal to 0 and `True` otherwise. What happens if we call `int()` on a bool? Try it out in the notebook cell below.\n",
    "\n",
    "Can you take advantage of this to write a succinct function that corresponds to the English sentence \"does the customer want exactly one topping?\"?"
   ]
  },
  {
   "cell_type": "code",
   "execution_count": 19,
   "id": "c802a68e",
   "metadata": {
    "execution": {
     "iopub.execute_input": "2022-08-10T20:58:19.427879Z",
     "iopub.status.busy": "2022-08-10T20:58:19.427103Z",
     "iopub.status.idle": "2022-08-10T20:58:19.435823Z",
     "shell.execute_reply": "2022-08-10T20:58:19.434833Z"
    },
    "papermill": {
     "duration": 0.024107,
     "end_time": "2022-08-10T20:58:19.437847",
     "exception": false,
     "start_time": "2022-08-10T20:58:19.413740",
     "status": "completed"
    },
    "tags": []
   },
   "outputs": [
    {
     "data": {
      "application/javascript": [
       "parent.postMessage({\"jupyterEvent\": \"custom.exercise_interaction\", \"data\": {\"outcomeType\": 1, \"valueTowardsCompletion\": 0.2, \"interactionType\": 1, \"questionType\": 2, \"questionId\": \"6_OneTopping\", \"learnToolsVersion\": \"0.3.4\", \"failureMessage\": \"\", \"exceptionClass\": \"\", \"trace\": \"\"}}, \"*\")"
      ],
      "text/plain": [
       "<IPython.core.display.Javascript object>"
      ]
     },
     "metadata": {},
     "output_type": "display_data"
    },
    {
     "data": {
      "text/markdown": [
       "<span style=\"color:#33cc33\">Correct:</span> \n",
       "\n",
       "This condition would be pretty complicated to express using just `and`, `or` and `not`, but using boolean-to-integer conversion gives us this short solution:\n",
       "```python\n",
       "return (int(ketchup) + int(mustard) + int(onion)) == 1\n",
       "```\n",
       "\n",
       "Fun fact: we don't technically need to call `int` on the arguments. Just by doing addition with booleans, Python implicitly does the integer conversion. So we could also write...\n",
       "\n",
       "```python\n",
       "return (ketchup + mustard + onion) == 1\n",
       "```"
      ],
      "text/plain": [
       "Correct: \n",
       "\n",
       "This condition would be pretty complicated to express using just `and`, `or` and `not`, but using boolean-to-integer conversion gives us this short solution:\n",
       "```python\n",
       "return (int(ketchup) + int(mustard) + int(onion)) == 1\n",
       "```\n",
       "\n",
       "Fun fact: we don't technically need to call `int` on the arguments. Just by doing addition with booleans, Python implicitly does the integer conversion. So we could also write...\n",
       "\n",
       "```python\n",
       "return (ketchup + mustard + onion) == 1\n",
       "```"
      ]
     },
     "metadata": {},
     "output_type": "display_data"
    }
   ],
   "source": [
    "def exactly_one_topping(ketchup, mustard, onion):\n",
    "    \"\"\"Return whether the customer wants exactly one of the three available toppings\n",
    "    on their hot dog.\n",
    "    \"\"\"\n",
    "    return (int(ketchup) + int(mustard) + int(onion)) == 1\n",
    "\n",
    "# Check your answer\n",
    "q6.check()"
   ]
  },
  {
   "cell_type": "code",
   "execution_count": 20,
   "id": "67b876a8",
   "metadata": {
    "execution": {
     "iopub.execute_input": "2022-08-10T20:58:19.464787Z",
     "iopub.status.busy": "2022-08-10T20:58:19.463948Z",
     "iopub.status.idle": "2022-08-10T20:58:19.468073Z",
     "shell.execute_reply": "2022-08-10T20:58:19.467240Z"
    },
    "papermill": {
     "duration": 0.020187,
     "end_time": "2022-08-10T20:58:19.470235",
     "exception": false,
     "start_time": "2022-08-10T20:58:19.450048",
     "status": "completed"
    },
    "tags": []
   },
   "outputs": [],
   "source": [
    "#q6.hint()\n",
    "#q6.solution()"
   ]
  },
  {
   "cell_type": "markdown",
   "id": "cdbf7b50",
   "metadata": {
    "papermill": {
     "duration": 0.011956,
     "end_time": "2022-08-10T20:58:19.494708",
     "exception": false,
     "start_time": "2022-08-10T20:58:19.482752",
     "status": "completed"
    },
    "tags": []
   },
   "source": [
    "# 7. <span title=\"A bit spicy\" style=\"color: darkgreen \">🌶️</span> (Optional)\n",
    "\n",
    "In this problem we'll be working with a simplified version of [blackjack](https://en.wikipedia.org/wiki/Blackjack) (aka twenty-one). In this version there is one player (who you'll control) and a dealer. Play proceeds as follows:\n",
    "\n",
    "- The player is dealt two face-up cards. The dealer is dealt one face-up card.\n",
    "- The player may ask to be dealt another card ('hit') as many times as they wish. If the sum of their cards exceeds 21, they lose the round immediately.\n",
    "- The dealer then deals additional cards to himself until either:\n",
    "    - the sum of the dealer's cards exceeds 21, in which case the player wins the round\n",
    "    - the sum of the dealer's cards is greater than or equal to 17. If the player's total is greater than the dealer's, the player wins. Otherwise, the dealer wins (even in case of a tie).\n",
    "    \n",
    "When calculating the sum of cards, Jack, Queen, and King count for 10. Aces can count as 1 or 11 (when referring to a player's \"total\" above, we mean the largest total that can be made without exceeding 21. So e.g. A+8 = 19, A+8+8 = 17)\n",
    "\n",
    "For this problem, you'll write a function representing the player's decision-making strategy in this game. We've provided a very unintelligent implementation below:"
   ]
  },
  {
   "cell_type": "code",
   "execution_count": 21,
   "id": "9772fd48",
   "metadata": {
    "execution": {
     "iopub.execute_input": "2022-08-10T20:58:19.521886Z",
     "iopub.status.busy": "2022-08-10T20:58:19.521066Z",
     "iopub.status.idle": "2022-08-10T20:58:19.526961Z",
     "shell.execute_reply": "2022-08-10T20:58:19.526094Z"
    },
    "papermill": {
     "duration": 0.022268,
     "end_time": "2022-08-10T20:58:19.529143",
     "exception": false,
     "start_time": "2022-08-10T20:58:19.506875",
     "status": "completed"
    },
    "tags": []
   },
   "outputs": [],
   "source": [
    "def should_hit(dealer_total, player_total, player_low_aces, player_high_aces):\n",
    "    \"\"\"Return True if the player should hit (request another card) given the current game\n",
    "    state, or False if the player should stay.\n",
    "    When calculating a hand's total value, we count aces as \"high\" (with value 11) if doing so\n",
    "    doesn't bring the total above 21, otherwise we count them as low (with value 1). \n",
    "    For example, if the player's hand is {A, A, A, 7}, we will count it as 11 + 1 + 1 + 7,\n",
    "    and therefore set player_total=20, player_low_aces=2, player_high_aces=1.\n",
    "    \"\"\"\n",
    "    if player_total < 10:\n",
    "        return True\n",
    "    else:\n",
    "        return False"
   ]
  },
  {
   "cell_type": "markdown",
   "id": "6e42f7a5",
   "metadata": {
    "papermill": {
     "duration": 0.011878,
     "end_time": "2022-08-10T20:58:19.553172",
     "exception": false,
     "start_time": "2022-08-10T20:58:19.541294",
     "status": "completed"
    },
    "tags": []
   },
   "source": [
    "This very conservative agent *always* sticks with the hand of two cards that they're dealt.\n",
    "\n",
    "We'll be simulating games between your player agent and our own dealer agent by calling your function.\n",
    "\n",
    "Try running the function below to see an example of a simulated game:"
   ]
  },
  {
   "cell_type": "code",
   "execution_count": 22,
   "id": "2d04ac65",
   "metadata": {
    "execution": {
     "iopub.execute_input": "2022-08-10T20:58:19.579950Z",
     "iopub.status.busy": "2022-08-10T20:58:19.579445Z",
     "iopub.status.idle": "2022-08-10T20:58:19.585019Z",
     "shell.execute_reply": "2022-08-10T20:58:19.584054Z"
    },
    "papermill": {
     "duration": 0.022748,
     "end_time": "2022-08-10T20:58:19.588060",
     "exception": false,
     "start_time": "2022-08-10T20:58:19.565312",
     "status": "completed"
    },
    "tags": []
   },
   "outputs": [
    {
     "name": "stdout",
     "output_type": "stream",
     "text": [
      "Player starts with 6 and J (total = 16)\n",
      "Dealer starts with A\n",
      "\n",
      "__Player's turn__\n",
      "Player stays\n",
      "\n",
      "__Dealer's turn__\n",
      "Dealer hits and receives 9. (total = 20)\n",
      "Dealer stands.\n",
      "Dealer wins. 20 >= 16\n"
     ]
    }
   ],
   "source": [
    "q7.simulate_one_game()"
   ]
  },
  {
   "cell_type": "markdown",
   "id": "9d055ed4",
   "metadata": {
    "papermill": {
     "duration": 0.016226,
     "end_time": "2022-08-10T20:58:19.616358",
     "exception": false,
     "start_time": "2022-08-10T20:58:19.600132",
     "status": "completed"
    },
    "tags": []
   },
   "source": [
    "The real test of your agent's mettle is their average win rate over many games. Try calling the function below to simulate 50000 games of blackjack (it may take a couple seconds):"
   ]
  },
  {
   "cell_type": "code",
   "execution_count": 23,
   "id": "f79df80f",
   "metadata": {
    "execution": {
     "iopub.execute_input": "2022-08-10T20:58:19.651312Z",
     "iopub.status.busy": "2022-08-10T20:58:19.649981Z",
     "iopub.status.idle": "2022-08-10T20:58:21.489571Z",
     "shell.execute_reply": "2022-08-10T20:58:21.488050Z"
    },
    "papermill": {
     "duration": 1.858588,
     "end_time": "2022-08-10T20:58:21.492680",
     "exception": false,
     "start_time": "2022-08-10T20:58:19.634092",
     "status": "completed"
    },
    "tags": []
   },
   "outputs": [
    {
     "name": "stdout",
     "output_type": "stream",
     "text": [
      "Player won 19537 out of 50000 games (win rate = 39.1%)\n"
     ]
    }
   ],
   "source": [
    "q7.simulate(n_games=50000)"
   ]
  },
  {
   "cell_type": "markdown",
   "id": "99e3abcf",
   "metadata": {
    "papermill": {
     "duration": 0.01292,
     "end_time": "2022-08-10T20:58:21.519036",
     "exception": false,
     "start_time": "2022-08-10T20:58:21.506116",
     "status": "completed"
    },
    "tags": []
   },
   "source": [
    "Our dumb agent that completely ignores the game state still manages to win shockingly often!\n",
    "\n",
    "Try adding some more smarts to the `should_hit` function and see how it affects the results."
   ]
  },
  {
   "cell_type": "code",
   "execution_count": 24,
   "id": "b5df40e5",
   "metadata": {
    "execution": {
     "iopub.execute_input": "2022-08-10T20:58:21.548881Z",
     "iopub.status.busy": "2022-08-10T20:58:21.548390Z",
     "iopub.status.idle": "2022-08-10T20:58:23.370603Z",
     "shell.execute_reply": "2022-08-10T20:58:23.368632Z"
    },
    "papermill": {
     "duration": 1.841019,
     "end_time": "2022-08-10T20:58:23.373890",
     "exception": false,
     "start_time": "2022-08-10T20:58:21.532871",
     "status": "completed"
    },
    "tags": []
   },
   "outputs": [
    {
     "name": "stdout",
     "output_type": "stream",
     "text": [
      "Player won 19122 out of 50000 games (win rate = 38.2%)\n"
     ]
    }
   ],
   "source": [
    "def should_hit(dealer_total, player_total, player_low_aces, player_high_aces):\n",
    "    \"\"\"Return True if the player should hit (request another card) given the current game\n",
    "    state, or False if the player should stay.\n",
    "    When calculating a hand's total value, we count aces as \"high\" (with value 11) if doing so\n",
    "    doesn't bring the total above 21, otherwise we count them as low (with value 1). \n",
    "    For example, if the player's hand is {A, A, A, 7}, we will count it as 11 + 1 + 1 + 7,\n",
    "    and therefore set player_total=20, player_low_aces=2, player_high_aces=1.\n",
    "    \"\"\"\n",
    "    if player_total < 17 and player_total < dealer_total:\n",
    "        return True\n",
    "    else:\n",
    "        return False\n",
    "\n",
    "q7.simulate(n_games=50000)"
   ]
  },
  {
   "cell_type": "markdown",
   "id": "26bd7525",
   "metadata": {
    "papermill": {
     "duration": 0.012853,
     "end_time": "2022-08-10T20:58:23.400623",
     "exception": false,
     "start_time": "2022-08-10T20:58:23.387770",
     "status": "completed"
    },
    "tags": []
   },
   "source": [
    "# Keep Going\n",
    "\n",
    "Learn about **[lists and tuples](https://www.kaggle.com/colinmorris/lists)** to handle multiple items of data in a systematic way."
   ]
  },
  {
   "cell_type": "markdown",
   "id": "b2166ec4",
   "metadata": {
    "papermill": {
     "duration": 0.013223,
     "end_time": "2022-08-10T20:58:23.427392",
     "exception": false,
     "start_time": "2022-08-10T20:58:23.414169",
     "status": "completed"
    },
    "tags": []
   },
   "source": [
    "---\n",
    "\n",
    "\n",
    "\n",
    "\n",
    "*Have questions or comments? Visit the [course discussion forum](https://www.kaggle.com/learn/python/discussion) to chat with other learners.*"
   ]
  }
 ],
 "metadata": {
  "kernelspec": {
   "display_name": "Python 3",
   "language": "python",
   "name": "python3"
  },
  "language_info": {
   "codemirror_mode": {
    "name": "ipython",
    "version": 3
   },
   "file_extension": ".py",
   "mimetype": "text/x-python",
   "name": "python",
   "nbconvert_exporter": "python",
   "pygments_lexer": "ipython3",
   "version": "3.7.12"
  },
  "papermill": {
   "default_parameters": {},
   "duration": 15.141731,
   "end_time": "2022-08-10T20:58:24.264911",
   "environment_variables": {},
   "exception": null,
   "input_path": "__notebook__.ipynb",
   "output_path": "__notebook__.ipynb",
   "parameters": {},
   "start_time": "2022-08-10T20:58:09.123180",
   "version": "2.3.4"
  }
 },
 "nbformat": 4,
 "nbformat_minor": 5
}
